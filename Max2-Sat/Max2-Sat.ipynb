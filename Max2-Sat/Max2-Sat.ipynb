{
 "cells": [
  {
   "cell_type": "markdown",
   "metadata": {},
   "source": [
    "# Max 2-Sat"
   ]
  },
  {
   "cell_type": "code",
   "execution_count": 14,
   "metadata": {},
   "outputs": [],
   "source": [
    "#!pip install dwave-system\n",
    "#!pip install dwave-neal"
   ]
  },
  {
   "cell_type": "code",
   "execution_count": 30,
   "metadata": {},
   "outputs": [],
   "source": [
    "from dwave.system.samplers import DWaveSampler\n",
    "from dwave.system.composites import EmbeddingComposite\n",
    "from neal import SimulatedAnnealingSampler\n",
    "import networkx as nx\n",
    "import dimod\n",
    "\n",
    "import dwavebinarycsp\n",
    "\n",
    "\n",
    "import matplotlib\n",
    "%matplotlib inline\n",
    "\n",
    "from matplotlib import pyplot as plt\n",
    "import numpy as np"
   ]
  },
  {
   "cell_type": "code",
   "execution_count": 16,
   "metadata": {},
   "outputs": [],
   "source": [
    "# parameters\n",
    "\n",
    "TOKEN = 'DEV-dadab771e1ad528a25146defb4c58b1e0fe50b33'\n",
    "PATH = 'testing_sat/02-sat.txt'\n",
    "NUM_READS_SA = 20\n",
    "NUM_READS_QPU = 20"
   ]
  },
  {
   "cell_type": "markdown",
   "metadata": {},
   "source": [
    "# Create QUBO"
   ]
  },
  {
   "cell_type": "code",
   "execution_count": 17,
   "metadata": {},
   "outputs": [
    {
     "data": {
      "text/plain": "['1 2',\n '1 -2',\n '-1 2',\n '-1 -2',\n '-1 3',\n '-1 -3',\n '2 -3',\n '2 4',\n '-2 3',\n '-2 -3',\n '3 4',\n '-3 -4']"
     },
     "execution_count": 17,
     "metadata": {},
     "output_type": "execute_result"
    }
   ],
   "source": [
    "with open(PATH, \"r\") as f:\n",
    "    sat = f.readlines()\n",
    "\n",
    "\n",
    "data = sat[0].split(\" \")\n",
    "\n",
    "n_variables, n_clauses = int(data[2]), int(data[3])\n",
    "\n",
    "#print(n_variables)\n",
    "#print(n_clauses) \n",
    "\n",
    "Q = []\n",
    "c = 0\n",
    "\n",
    "sat = sat[1:]\n",
    "clauses = []\n",
    "for x in sat:\n",
    "    clauses.append(x.replace(' 0\\n', ''))\n",
    "clauses\n",
    "\n",
    "\n",
    "    "
   ]
  },
  {
   "cell_type": "code",
   "execution_count": 18,
   "metadata": {},
   "outputs": [],
   "source": [
    "import numpy as np\n",
    "\n",
    "def gen_q(clauses):\n",
    "    Q = np.zeros(shape=[n_variables, n_variables])\n",
    "    c = 0\n",
    "    for clause in clauses:\n",
    "        clause = clause.split(' ')\n",
    "        int_clause = [int(c) for c in clause]\n",
    "\n",
    "        s1, s2 = int_clause[0], int_clause[1]\n",
    "        v1, v2 = abs(s1)-1, abs(s2)-1\n",
    "        \n",
    "\n",
    "        if s1 > 0 and s2 > 0: # True True\n",
    "            # 1 - x1 - x2 + x1x2\n",
    "            c += 1\n",
    "            Q[v1][v1] += -1 \n",
    "            Q[v2][v2] += -1\n",
    "            Q[v1][v2] += 1/2 \n",
    "            Q[v2][v1] += 1/2\n",
    "        elif s1 > 0 and s2 < 0: # True False\n",
    "            # x2 - x1x2\n",
    "            Q[v2][v2] += 1\n",
    "            Q[v1][v2] += -1/2 \n",
    "            Q[v2][v1] += -1/2\n",
    "\n",
    "        elif s1 < 0 and s2 > 0: # False True\n",
    "            # x1 - x1x2\n",
    "            Q[v1][v1] += 1\n",
    "            Q[v1][v2] += -1/2 \n",
    "            Q[v2][v1] += -1/2\n",
    "\n",
    "        elif s1 < 0 and s2 < 0: # False False\n",
    "            # x1x2\n",
    "            Q[v1][v2] += 1/2 \n",
    "            Q[v2][v1] += 1/2\n",
    "\n",
    "        else:\n",
    "            pass # throw error\n",
    "            \n",
    "    return Q, c"
   ]
  },
  {
   "cell_type": "markdown",
   "metadata": {},
   "source": [
    "## Create BQM"
   ]
  },
  {
   "cell_type": "code",
   "execution_count": 19,
   "metadata": {},
   "outputs": [
    {
     "data": {
      "text/plain": "BinaryQuadraticModel({x_1: 1.0, x_2: 0.0, x_3: 0.0, x_4: -2.0}, {('x_2', 'x_3'): -1.0, ('x_2', 'x_4'): 1.0, ('x_3', 'x_4'): 2.0}, 0.0, 'BINARY')"
     },
     "execution_count": 19,
     "metadata": {},
     "output_type": "execute_result"
    }
   ],
   "source": [
    "Q, c = gen_q(clauses)\n",
    "\n",
    "variable_order = [\"x_{}\".format(n) for n in range(1, n_variables+1)]\n",
    "BQM = dimod.BinaryQuadraticModel.from_numpy_matrix(Q, variable_order = variable_order)\n",
    "BQM"
   ]
  },
  {
   "cell_type": "code",
   "execution_count": null,
   "metadata": {},
   "outputs": [],
   "source": []
  },
  {
   "cell_type": "markdown",
   "metadata": {},
   "source": [
    "# Solve"
   ]
  },
  {
   "cell_type": "markdown",
   "metadata": {},
   "source": [
    "## Simulated Annealing"
   ]
  },
  {
   "cell_type": "code",
   "execution_count": 35,
   "metadata": {},
   "outputs": [],
   "source": [
    "def simulated_annealing(bqm, num_reads_sa=NUM_READS_SA):\n",
    "    # Run the QUBO on the solver from your config file\n",
    "    sampler = SimulatedAnnealingSampler()\n",
    "    response_SA = sampler.sample(bqm, num_reads=num_reads_sa)\n",
    "    return response_SA"
   ]
  },
  {
   "cell_type": "code",
   "execution_count": 36,
   "metadata": {},
   "outputs": [],
   "source": [
    "def print_response_data(response):\n",
    "    # ------- Print results to user -------\n",
    "    print('-' * 160)\n",
    "    print('{:>40s}{:>40s}{:^40s}{:^40s}'.format('Set 0','Set 1','Energy',\"Count\"))\n",
    "    print('-' * 160)\n",
    "    for sample, E, occ in response.data(fields=['sample','energy',\"num_occurrences\"]):\n",
    "        S0 = [k for k,v in sample.items() if v == 0]\n",
    "        S1 = [k for k,v in sample.items() if v == 1]\n",
    "        print('{:>40s}{:>40s}{:^40s}{:^40s}'.format(str(S0),str(S1),str(E),str(occ)))"
   ]
  },
  {
   "cell_type": "code",
   "execution_count": 37,
   "metadata": {},
   "outputs": [
    {
     "name": "stdout",
     "output_type": "stream",
     "text": [
      "----------------------------------------------------------------------------------------------------------------------------------------------------------------\n",
      "                                   Set 0                                   Set 1                 Energy                                  Count                  \n",
      "----------------------------------------------------------------------------------------------------------------------------------------------------------------\n",
      "                   ['x_1', 'x_2', 'x_3']                                 ['x_4']                  -2.0                                     1                    \n",
      "                   ['x_1', 'x_2', 'x_3']                                 ['x_4']                  -2.0                                     1                    \n",
      "                   ['x_1', 'x_2', 'x_3']                                 ['x_4']                  -2.0                                     1                    \n",
      "                   ['x_1', 'x_2', 'x_3']                                 ['x_4']                  -2.0                                     1                    \n",
      "                   ['x_1', 'x_2', 'x_3']                                 ['x_4']                  -2.0                                     1                    \n",
      "                   ['x_1', 'x_2', 'x_3']                                 ['x_4']                  -2.0                                     1                    \n",
      "                   ['x_1', 'x_2', 'x_3']                                 ['x_4']                  -2.0                                     1                    \n",
      "                   ['x_1', 'x_2', 'x_3']                                 ['x_4']                  -2.0                                     1                    \n",
      "                   ['x_1', 'x_2', 'x_3']                                 ['x_4']                  -2.0                                     1                    \n",
      "                   ['x_1', 'x_2', 'x_3']                                 ['x_4']                  -2.0                                     1                    \n",
      "                   ['x_1', 'x_2', 'x_3']                                 ['x_4']                  -2.0                                     1                    \n",
      "                   ['x_1', 'x_2', 'x_3']                                 ['x_4']                  -2.0                                     1                    \n",
      "                   ['x_1', 'x_2', 'x_3']                                 ['x_4']                  -2.0                                     1                    \n",
      "                   ['x_1', 'x_2', 'x_3']                                 ['x_4']                  -2.0                                     1                    \n",
      "                   ['x_1', 'x_2', 'x_3']                                 ['x_4']                  -2.0                                     1                    \n",
      "                   ['x_1', 'x_2', 'x_3']                                 ['x_4']                  -2.0                                     1                    \n",
      "                   ['x_1', 'x_2', 'x_3']                                 ['x_4']                  -2.0                                     1                    \n",
      "                   ['x_1', 'x_2', 'x_3']                                 ['x_4']                  -2.0                                     1                    \n",
      "                   ['x_1', 'x_2', 'x_3']                                 ['x_4']                  -2.0                                     1                    \n",
      "                   ['x_1', 'x_2', 'x_3']                                 ['x_4']                  -2.0                                     1                    \n"
     ]
    }
   ],
   "source": [
    "print_response_data(response_SA)"
   ]
  },
  {
   "cell_type": "code",
   "execution_count": 38,
   "metadata": {},
   "outputs": [
    {
     "name": "stdout",
     "output_type": "stream",
     "text": [
      "----------------------------------------------------------------------------------------------------------------------------------------------------------------\n",
      "                                   Set 0                                   Set 1                 Energy                                  Count                  \n",
      "----------------------------------------------------------------------------------------------------------------------------------------------------------------\n",
      "                   ['x_1', 'x_2', 'x_3']                                 ['x_4']                  -2.0                                     20                   \n"
     ]
    }
   ],
   "source": [
    "print_response_data(response_SA.aggregate())"
   ]
  },
  {
   "cell_type": "markdown",
   "metadata": {},
   "source": [
    "## Real Annealing"
   ]
  },
  {
   "cell_type": "code",
   "execution_count": 39,
   "metadata": {},
   "outputs": [
    {
     "data": {
      "text/plain": "StructuredSolver(id='Advantage_system1.1')"
     },
     "execution_count": 39,
     "metadata": {},
     "output_type": "execute_result"
    }
   ],
   "source": [
    "# config API\n",
    "\n",
    "from dwave.cloud import Client\n",
    "\n",
    "\n",
    "client = Client.from_config(token=TOKEN)     \n",
    "solver = client.get_solvers()[2]\n",
    "solver   "
   ]
  },
  {
   "cell_type": "code",
   "execution_count": 40,
   "metadata": {},
   "outputs": [],
   "source": [
    "import random\n",
    "from dwave.cloud import Client\n",
    "\n",
    "def real_annealing(bqm, num_reads_qpu=NUM_READS_QPU, token=TOKEN):\n",
    "    # Run the QUBO on the solver from your config file\n",
    "    sampler = SimulatedAnnealingSampler()\n",
    "    sampler = EmbeddingComposite(DWaveSampler(token=TOKEN))\n",
    "\n",
    "    response_QPU = sampler.sample(BQM, num_reads=num_reads_qpu)\n",
    "    return response_QPU"
   ]
  },
  {
   "cell_type": "code",
   "execution_count": 26,
   "metadata": {},
   "outputs": [
    {
     "name": "stdout",
     "output_type": "stream",
     "text": [
      "----------------------------------------------------------------------------------------------------------------------------------------------------------------\n",
      "                                   Set 0                                   Set 1                 Energy                                  Count                  \n",
      "----------------------------------------------------------------------------------------------------------------------------------------------------------------\n",
      "                   ['x_1', 'x_2', 'x_3']                                 ['x_4']                  -2.0                                     20                   \n"
     ]
    }
   ],
   "source": [
    "print_response_data(response_QPU)"
   ]
  },
  {
   "cell_type": "markdown",
   "metadata": {},
   "source": [
    "# Results"
   ]
  },
  {
   "cell_type": "code",
   "execution_count": 27,
   "metadata": {},
   "outputs": [
    {
     "name": "stdout",
     "output_type": "stream",
     "text": [
      "y is 1.0\n",
      "x_1 = 0\n",
      "x_2 = 0\n",
      "x_3 = 0\n",
      "x_4 = 1\n"
     ]
    }
   ],
   "source": [
    "# retrieve result with the best counts\n",
    "\n",
    "def return_solution(response, Q, c):\n",
    "    count = 0\n",
    "    for i in range(len(response)):\n",
    "        new_count = response[i][2]\n",
    "        if  new_count > count:\n",
    "            best = response[i][0]\n",
    "            count = new_count\n",
    "    \n",
    "    y = c + np.matmul(np.matmul(best.T, Q), best) \n",
    "\n",
    "    return y, best\n",
    "\n",
    "y, best = return_solution(response_SA.aggregate().record, Q, c)\n",
    "print(f'y is {y}')\n",
    "\n",
    "for v in range(n_variables):\n",
    "    print(f'x_{v+1} = {best[v]}')\n",
    "\n"
   ]
  },
  {
   "cell_type": "markdown",
   "metadata": {},
   "source": [
    "## Simulated Annealing"
   ]
  },
  {
   "cell_type": "markdown",
   "metadata": {},
   "source": [
    "# Testing"
   ]
  },
  {
   "cell_type": "code",
   "execution_count": 31,
   "metadata": {},
   "outputs": [
    {
     "data": {
      "text/plain": "BinaryQuadraticModel({2: 4.0, 0: 4.0, 1: -4.0, 3: -4.0}, {(2, 0): -8.0, (2, 1): 0.0, (2, 3): 0.0, (0, 1): 0.0, (0, 3): 0.0, (1, 3): 8.0}, 4.0, 'BINARY')"
     },
     "execution_count": 31,
     "metadata": {},
     "output_type": "execute_result"
    }
   ],
   "source": [
    "\n",
    "\n",
    "# define the csp\n",
    "csp = dwavebinarycsp.factories.random_2in4sat(4, 2) # 8 variables, 4 clauses\n",
    "csp\n",
    "\n",
    "# generate the bqm from the csp\n",
    "import warnings\n",
    "np.warnings.filterwarnings(\"ignore\", category=DeprecationWarning)\n",
    "\n",
    "bqm = dwavebinarycsp.stitch(csp)\n",
    "bqm"
   ]
  },
  {
   "cell_type": "code",
   "execution_count": null,
   "metadata": {},
   "outputs": [
    {
     "data": {
      "text/plain": "BinaryQuadraticModel({0: -4.0, 1: 4.0, 2: 4.0, 3: -4.0}, {(0, 1): 0.0, (0, 2): 0.0, (0, 3): 8.0, (1, 2): -8.0, (1, 3): 0.0, (2, 3): 0.0}, 4.0, 'BINARY')"
     },
     "execution_count": 9,
     "metadata": {},
     "output_type": "execute_result"
    }
   ],
   "source": [
    "\n",
    "\n"
   ]
  },
  {
   "cell_type": "code",
   "execution_count": null,
   "metadata": {},
   "outputs": [],
   "source": []
  }
 ],
 "metadata": {
  "kernelspec": {
   "display_name": "Python 3.9.5 64-bit ('aqml': conda)",
   "name": "python395jvsc74a57bd0814f07c2ef0a0834c4cae908e9df308d0f5fb991f431bbb719e307a4c116e3ea"
  },
  "language_info": {
   "codemirror_mode": {
    "name": "ipython",
    "version": 3
   },
   "file_extension": ".py",
   "mimetype": "text/x-python",
   "name": "python",
   "nbconvert_exporter": "python",
   "pygments_lexer": "ipython3",
   "version": "3.9.5"
  },
  "metadata": {
   "interpreter": {
    "hash": "814f07c2ef0a0834c4cae908e9df308d0f5fb991f431bbb719e307a4c116e3ea"
   }
  },
  "orig_nbformat": 2
 },
 "nbformat": 4,
 "nbformat_minor": 2
}