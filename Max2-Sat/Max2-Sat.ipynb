{
 "metadata": {
  "language_info": {
   "codemirror_mode": {
    "name": "ipython",
    "version": 3
   },
   "file_extension": ".py",
   "mimetype": "text/x-python",
   "name": "python",
   "nbconvert_exporter": "python",
   "pygments_lexer": "ipython3",
   "version": "3.8.5"
  },
  "orig_nbformat": 2,
  "kernelspec": {
   "name": "python385jvsc74a57bd031f2aee4e71d21fbe5cf8b01ff0e069b9275f58929596ceb00d14d90e3e16cd6",
   "display_name": "Python 3.8.5 64-bit"
  },
  "metadata": {
   "interpreter": {
    "hash": "31f2aee4e71d21fbe5cf8b01ff0e069b9275f58929596ceb00d14d90e3e16cd6"
   }
  }
 },
 "nbformat": 4,
 "nbformat_minor": 2,
 "cells": [
  {
   "source": [
    "# Max 2-Sat"
   ],
   "cell_type": "markdown",
   "metadata": {}
  },
  {
   "cell_type": "code",
   "execution_count": null,
   "metadata": {},
   "outputs": [],
   "source": []
  },
  {
   "source": [
    "## Create QUBO"
   ],
   "cell_type": "markdown",
   "metadata": {}
  },
  {
   "cell_type": "code",
   "execution_count": 60,
   "metadata": {},
   "outputs": [
    {
     "output_type": "execute_result",
     "data": {
      "text/plain": [
       "['1 2',\n",
       " '1 -2',\n",
       " '-1 2',\n",
       " '-1 -2',\n",
       " '-1 3',\n",
       " '-1 -3',\n",
       " '2 -3',\n",
       " '2 4',\n",
       " '-2 3',\n",
       " '-2 -3',\n",
       " '3 4',\n",
       " '-3 -4']"
      ]
     },
     "metadata": {},
     "execution_count": 60
    }
   ],
   "source": [
    "path = 'testing_sat/02-sat.txt'\n",
    "\n",
    "with open(path, \"r\") as f:\n",
    "    sat = f.readlines()\n",
    "\n",
    "\n",
    "data = sat[0].split(\" \")\n",
    "\n",
    "n_variables, n_clauses = int(data[2]), int(data[3])\n",
    "\n",
    "#print(n_variables)\n",
    "#print(n_clauses) \n",
    "\n",
    "Q = []\n",
    "c = 0\n",
    "\n",
    "sat = sat[1:]\n",
    "clauses = []\n",
    "for x in sat:\n",
    "    clauses.append(x.replace(' 0\\n', ''))\n",
    "clauses\n",
    "\n",
    "\n",
    "    "
   ]
  },
  {
   "cell_type": "code",
   "execution_count": 68,
   "metadata": {},
   "outputs": [
    {
     "output_type": "execute_result",
     "data": {
      "text/plain": [
       "array([[ 1. ,  0. ,  0. ,  0. ],\n",
       "       [ 0. ,  0. , -0.5,  0.5],\n",
       "       [ 0. , -0.5,  0. ,  1. ],\n",
       "       [ 0. ,  0.5,  1. , -2. ]])"
      ]
     },
     "metadata": {},
     "execution_count": 68
    }
   ],
   "source": [
    "import numpy as np\n",
    "\n",
    "def gen_q(clauses):\n",
    "    Q = np.zeros(shape=[n_variables, n_variables])\n",
    "    c = 0\n",
    "    for clause in clauses:\n",
    "        clause = clause.split(' ')\n",
    "        int_clause = [int(c) for c in clause]\n",
    "\n",
    "        s1, s2 = int_clause[0], int_clause[1]\n",
    "        v1, v2 = abs(s1)-1, abs(s2)-1\n",
    "        \n",
    "\n",
    "        if s1 > 0 and s2 > 0: # True True\n",
    "            # 1 - x1 - x2 + x1x2\n",
    "            c += 1\n",
    "            Q[v1][v1] += -1 \n",
    "            Q[v2][v2] += -1\n",
    "            Q[v1][v2] += 1/2 \n",
    "            Q[v2][v1] += 1/2\n",
    "        elif s1 > 0 and s2 < 0: # True False\n",
    "            # x2 - x1x2\n",
    "            Q[v2][v2] += 1\n",
    "            Q[v1][v2] += -1/2 \n",
    "            Q[v2][v1] += -1/2\n",
    "\n",
    "        elif s1 < 0 and s2 > 0: # False True\n",
    "            # x1 - x1x2\n",
    "            Q[v1][v1] += 1\n",
    "            Q[v1][v2] += -1/2 \n",
    "            Q[v2][v1] += -1/2\n",
    "\n",
    "        elif s1 < 0 and s2 < 0: # False False\n",
    "            # x1x2\n",
    "            Q[v1][v2] += 1/2 \n",
    "            Q[v2][v1] += 1/2\n",
    "\n",
    "        else:\n",
    "            pass # throw error\n",
    "            \n",
    "    return Q\n",
    "\n",
    "a = gen_q(clauses)\n",
    "a\n",
    "\n",
    "\n",
    "\n",
    "\n"
   ]
  },
  {
   "cell_type": "code",
   "execution_count": 62,
   "metadata": {},
   "outputs": [
    {
     "output_type": "error",
     "ename": "SyntaxError",
     "evalue": "unexpected EOF while parsing (<ipython-input-62-c935cd989aae>, line 5)",
     "traceback": [
      "\u001b[0;36m  File \u001b[0;32m\"<ipython-input-62-c935cd989aae>\"\u001b[0;36m, line \u001b[0;32m5\u001b[0m\n\u001b[0;31m    \u001b[0m\n\u001b[0m    ^\u001b[0m\n\u001b[0;31mSyntaxError\u001b[0m\u001b[0;31m:\u001b[0m unexpected EOF while parsing\n"
     ]
    }
   ],
   "source": [
    "\n",
    "\n",
    "\n"
   ]
  },
  {
   "source": [
    "## Create BQM"
   ],
   "cell_type": "markdown",
   "metadata": {}
  },
  {
   "source": [
    "## Solve"
   ],
   "cell_type": "markdown",
   "metadata": {}
  }
 ]
}