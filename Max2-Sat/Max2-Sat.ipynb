{
 "cells": [
  {
   "cell_type": "markdown",
   "metadata": {},
   "source": [
    "# Max 2-Sat\n",
    "\n",
    "For the problem representation we used a standard format, widely accepted for boolean formulas in CNF, called [DIMACS](https://www.cs.utexas.edu/users/moore/acl2/manuals/current/manual/index-seo.php/SATLINK____DIMACS).\n",
    "\n",
    "`usage` : change `PATH` variable, in the cell containing parameters, to choose the file of the problem you want to solve\n",
    "\n"
   ]
  },
  {
   "cell_type": "code",
   "execution_count": 10,
   "metadata": {},
   "outputs": [],
   "source": [
    "from dwave.system.samplers import DWaveSampler\n",
    "from dwave.system.composites import EmbeddingComposite\n",
    "from neal import SimulatedAnnealingSampler\n",
    "\n",
    "import numpy as np\n",
    "import dwavebinarycsp\n",
    "import dimod"
   ]
  },
  {
   "cell_type": "code",
   "execution_count": 11,
   "metadata": {},
   "outputs": [],
   "source": [
    "# parameters\n",
    "\n",
    "TOKEN = 'DEV-dadab771e1ad528a25146defb4c58b1e0fe50b33' # API dwave\n",
    "PATH = 'testing_sat/02-sat.txt' # current problem to solve\n",
    "SAT_PATH = 'testing_sat/'\n",
    "NUM_READS_SQA = 20\n",
    "NUM_READS_QPU = 20"
   ]
  },
  {
   "cell_type": "markdown",
   "metadata": {},
   "source": [
    "# Create QUBO\n",
    "\n",
    "In order to create the QUBO of a MAX 2 SAT problem we followed [Glover 2019](https://arxiv.org/pdf/1811.11538.pdf). The formulas to convert traditional constraints into quadratic penalties can be found on page 15:\n",
    "\n",
    "\n",
    "1. No negations: \n",
    "    Example $\\left(x_{i} \\vee x_{j}\\right)$ \n",
    "    * Traditional constraint: $x_{i}+x_{j} \\geq 1$ \n",
    "    * Quadratic Penalty: $\\left(1-x_{i}-x_{j}+x_{i} x_{j}\\right)$\n",
    "2. One negation:\n",
    "    Example $\\left(x_{i} \\vee \\bar{x}_{j}\\right)$\n",
    "    * Traditional constraint: $x_{i}+\\bar{x}_{j} \\geq 1$\n",
    "    * Quadratic Penalty: $\\left(x_{j}-x_{i} x_{j}\\right)$\n",
    "3. Two negations: \n",
    "    Example $\\left(\\bar{x}_{i} \\vee \\bar{x}_{j}\\right)$ \n",
    "    * Traditional constraint: $\\bar{x}_{i}+\\bar{x}_{j} \\geq 1$\n",
    "    * Quadratic Penalty: $\\left(x_{i} x_{j}\\right)$\n"
   ]
  },
  {
   "cell_type": "code",
   "execution_count": 12,
   "metadata": {},
   "outputs": [
    {
     "name": "stdout",
     "output_type": "stream",
     "text": [
      "num_clauses 12\n",
      "------------------------------\n",
      "num var 4\n",
      "------------------------------\n",
      "clauses ['1 2', '1 -2', '-1 2', '-1 -2', '-1 3', '-1 -3', '2 -3', '2 4', '-2 3', '-2 -3', '3 4', '-3 -4']\n"
     ]
    }
   ],
   "source": [
    "# extract clauses and num of variables from \n",
    "def extract_clauses(path):\n",
    "    with open(path, \"r\") as f:\n",
    "        # retrieve data from file\n",
    "        sat = f.readlines()\n",
    "        data = sat[0].split(\" \")\n",
    "\n",
    "    n_variables = int(data[2]) \n",
    "\n",
    "    sat = sat[1:]\n",
    "    clauses = [x.replace(' 0\\n', '') for x in sat]\n",
    "    \n",
    "    return clauses, n_variables\n",
    "\n",
    "clauses, n_variables = extract_clauses(PATH) \n",
    "print(f'num_clauses {len(clauses)}')\n",
    "print('-' * 30)  \n",
    "print(f'num var {n_variables}')  \n",
    "print('-' * 30)  \n",
    "print(f'clauses {clauses}')  "
   ]
  },
  {
   "cell_type": "code",
   "execution_count": 13,
   "metadata": {},
   "outputs": [
    {
     "name": "stdout",
     "output_type": "stream",
     "text": [
      "Q is: \n",
      "[[ 1.   0.   0.   0. ]\n",
      " [ 0.   0.  -0.5  0.5]\n",
      " [ 0.  -0.5  0.   1. ]\n",
      " [ 0.   0.5  1.  -2. ]]\n",
      "-------------------------\n",
      "c is 3\n"
     ]
    }
   ],
   "source": [
    "# generate the matrix Q and c\n",
    "\n",
    "def gen_q(clauses, n_variables):\n",
    "    \n",
    "    Q = np.zeros(shape=[n_variables, n_variables])\n",
    "    c = 0\n",
    "    for clause in clauses:\n",
    "        clause = clause.split(' ')\n",
    "        int_clause = [int(c) for c in clause]\n",
    "\n",
    "        s1, s2 = int_clause[0], int_clause[1]\n",
    "        v1, v2 = abs(s1)-1, abs(s2)-1\n",
    "        \n",
    "\n",
    "        if s1 > 0 and s2 > 0: # True True\n",
    "            # 1 - x1 - x2 + x1x2\n",
    "            c += 1\n",
    "            Q[v1][v1] += -1 \n",
    "            Q[v2][v2] += -1\n",
    "            Q[v1][v2] += 1/2 \n",
    "            Q[v2][v1] += 1/2\n",
    "        elif s1 > 0 and s2 < 0: # True False\n",
    "            # x2 - x1x2\n",
    "            Q[v2][v2] += 1\n",
    "            Q[v1][v2] += -1/2 \n",
    "            Q[v2][v1] += -1/2\n",
    "\n",
    "        elif s1 < 0 and s2 > 0: # False True\n",
    "            # x1 - x1x2\n",
    "            Q[v1][v1] += 1\n",
    "            Q[v1][v2] += -1/2 \n",
    "            Q[v2][v1] += -1/2\n",
    "\n",
    "        elif s1 < 0 and s2 < 0: # False False\n",
    "            # x1x2\n",
    "            Q[v1][v2] += 1/2 \n",
    "            Q[v2][v1] += 1/2\n",
    "\n",
    "        else:\n",
    "            pass # throw error\n",
    "            \n",
    "    return Q, c\n",
    "\n",
    "Q, c = gen_q(clauses, n_var)\n",
    "\n",
    "print(f'Q is: \\n{Q}')\n",
    "print('-' * 25)\n",
    "print(f'c is {c}')"
   ]
  },
  {
   "cell_type": "markdown",
   "metadata": {},
   "source": [
    "## Create BQM"
   ]
  },
  {
   "cell_type": "code",
   "execution_count": 14,
   "metadata": {},
   "outputs": [
    {
     "data": {
      "text/plain": "BinaryQuadraticModel({x_1: 1.0, x_2: 0.0, x_3: 0.0, x_4: -2.0}, {('x_2', 'x_3'): -1.0, ('x_2', 'x_4'): 1.0, ('x_3', 'x_4'): 2.0}, 0.0, 'BINARY')"
     },
     "execution_count": 14,
     "metadata": {},
     "output_type": "execute_result"
    }
   ],
   "source": [
    "# Create BQM\n",
    "variable_order = [\"x_{}\".format(n) for n in range(1, n_variables+1)]\n",
    "BQM = dimod.BinaryQuadraticModel.from_numpy_matrix(Q, variable_order = variable_order)\n",
    "BQM"
   ]
  },
  {
   "cell_type": "markdown",
   "metadata": {},
   "source": [
    "# Solve\n",
    "\n",
    "We now solve the problem through both simulated and real quantum annealing showing the results obtained.  "
   ]
  },
  {
   "cell_type": "code",
   "execution_count": 15,
   "metadata": {},
   "outputs": [],
   "source": [
    "def print_response_data(response):\n",
    "    # ------- Print results to user -------\n",
    "    print('-' * 160)\n",
    "    print('{:>40s}{:>40s}{:^40s}{:^40s}'.format('Set 0','Set 1','Energy',\"Count\"))\n",
    "    print('-' * 160)\n",
    "    for sample, E, occ in response.data(fields=['sample','energy',\"num_occurrences\"]):\n",
    "        S0 = [k for k,v in sample.items() if v == 0]\n",
    "        S1 = [k for k,v in sample.items() if v == 1]\n",
    "        print('{:>40s}{:>40s}{:^40s}{:^40s}'.format(str(S0),str(S1),str(E),str(occ)))"
   ]
  },
  {
   "cell_type": "markdown",
   "metadata": {},
   "source": [
    "## Simulated Quantum Annealing"
   ]
  },
  {
   "cell_type": "code",
   "execution_count": 18,
   "metadata": {},
   "outputs": [],
   "source": [
    "def simulated_annealing(bqm, num_reads_sa=NUM_READS_SQA):\n",
    "    # Run the QUBO on the solver from your config file\n",
    "    sampler = SimulatedAnnealingSampler()\n",
    "    response_SQA = sampler.sample(bqm, num_reads=num_reads_sa)\n",
    "    return response_SQA"
   ]
  },
  {
   "cell_type": "markdown",
   "metadata": {},
   "source": [
    "## Real Quantum Annealing"
   ]
  },
  {
   "cell_type": "code",
   "execution_count": null,
   "metadata": {},
   "outputs": [],
   "source": [
    "def real_annealing(bqm, num_reads_qpu=NUM_READS_QPU, token=TOKEN):\n",
    "    # Run the QUBO on the solver from your config file\n",
    "    sampler = SimulatedAnnealingSampler()\n",
    "    sampler = EmbeddingComposite(DWaveSampler(token=token))\n",
    "\n",
    "    response_QPU = sampler.sample(bqm, num_reads=num_reads_qpu)\n",
    "    return response_QPU"
   ]
  },
  {
   "cell_type": "markdown",
   "metadata": {},
   "source": [
    "# Results\n",
    "In the result we select the most frequent solution and we show both the optimal number of unsatisfied constraints and the assignment of the optimal solution"
   ]
  },
  {
   "cell_type": "code",
   "execution_count": 40,
   "metadata": {},
   "outputs": [],
   "source": [
    "# retrieve result with the best counts\n",
    "\n",
    "def return_solution(response, Q, c):\n",
    "    count = 0\n",
    "    for i in range(len(response)):\n",
    "        new_count = response[i][2]\n",
    "        if  new_count > count:\n",
    "            best = response[i][0]\n",
    "            count = new_count\n",
    "    \n",
    "    y = c + np.matmul(np.matmul(best.T, Q), best) \n",
    "\n",
    "    return y, best\n",
    "\n",
    "def print_solution(response, Q, c):\n",
    "    y, best = return_solution(response_SQA.aggregate().record, Q, c)\n",
    "    print(f'y is {int(y)} (optimal number of unsitisfied constraints)')\n",
    "\n",
    "    for v in range(n_variables):\n",
    "        print(f'x_{v+1} = {True if best[v] else False}')\n",
    "    "
   ]
  },
  {
   "cell_type": "markdown",
   "metadata": {},
   "source": [
    "## Simulated Quantum Annealing"
   ]
  },
  {
   "cell_type": "code",
   "execution_count": 44,
   "metadata": {},
   "outputs": [],
   "source": [
    "response_SQA = simulated_annealing(BQM)"
   ]
  },
  {
   "cell_type": "code",
   "execution_count": 45,
   "metadata": {},
   "outputs": [
    {
     "name": "stdout",
     "output_type": "stream",
     "text": [
      "----------------------------------------------------------------------------------------------------------------------------------------------------------------\n",
      "                                   Set 0                                   Set 1                 Energy                                  Count                  \n",
      "----------------------------------------------------------------------------------------------------------------------------------------------------------------\n",
      "                   ['x_1', 'x_2', 'x_3']                                 ['x_4']                  -2.0                                     20                   \n"
     ]
    }
   ],
   "source": [
    "print_response_data(response_SQA.aggregate())"
   ]
  },
  {
   "cell_type": "code",
   "execution_count": 43,
   "metadata": {},
   "outputs": [
    {
     "name": "stdout",
     "output_type": "stream",
     "text": [
      "y is 1 (optimal number of unsitisfied constraints)\n",
      "x_1 = False\n",
      "x_2 = False\n",
      "x_3 = False\n",
      "x_4 = True\n"
     ]
    }
   ],
   "source": [
    "print_solution(response_SQA, Q, c)"
   ]
  },
  {
   "cell_type": "markdown",
   "metadata": {},
   "source": [
    "## Real Quantum Annealing\n"
   ]
  },
  {
   "cell_type": "code",
   "execution_count": 46,
   "metadata": {},
   "outputs": [],
   "source": [
    "response_QPU = real_annealing(BQM)"
   ]
  },
  {
   "cell_type": "code",
   "execution_count": 47,
   "metadata": {},
   "outputs": [
    {
     "name": "stdout",
     "output_type": "stream",
     "text": [
      "----------------------------------------------------------------------------------------------------------------------------------------------------------------\n",
      "                                   Set 0                                   Set 1                 Energy                                  Count                  \n",
      "----------------------------------------------------------------------------------------------------------------------------------------------------------------\n",
      "                   ['x_1', 'x_2', 'x_3']                                 ['x_4']                  -2.0                                     20                   \n"
     ]
    }
   ],
   "source": [
    "print_response_data(response_QPU)"
   ]
  },
  {
   "cell_type": "code",
   "execution_count": 49,
   "metadata": {},
   "outputs": [
    {
     "name": "stdout",
     "output_type": "stream",
     "text": [
      "y is 1 (optimal number of unsitisfied constraints)\n",
      "x_1 = False\n",
      "x_2 = False\n",
      "x_3 = False\n",
      "x_4 = True\n"
     ]
    }
   ],
   "source": [
    "print_solution(response_QPU, Q, c)"
   ]
  },
  {
   "cell_type": "markdown",
   "metadata": {},
   "source": [
    "# Testing"
   ]
  },
  {
   "cell_type": "code",
   "execution_count": null,
   "metadata": {},
   "outputs": [
    {
     "data": {
      "text/plain": "<dwavebinarycsp.core.csp.ConstraintSatisfactionProblem at 0x7fddb82c8be0>"
     },
     "execution_count": 50,
     "metadata": {},
     "output_type": "execute_result"
    }
   ],
   "source": [
    "# define the csp\n",
    "csp = dwavebinarycsp.factories.random_2in4sat(4, 2) # 8 variables, 4 clauses\n",
    "csp"
   ]
  },
  {
   "cell_type": "code",
   "execution_count": null,
   "metadata": {},
   "outputs": [
    {
     "name": "stdout",
     "output_type": "stream",
     "text": [
      "<class 'dwavebinarycsp.core.csp.ConstraintSatisfactionProblem'>\n",
      "Constraint.from_configurations(frozenset({(0, 0, 1, 0), (0, 1, 1, 1), (1, 0, 1, 1), (0, 1, 0, 0), (1, 0, 0, 0), (1, 1, 0, 1)}), (0, 1, 2, 3), Vartype.BINARY, name='2-in-4')\n",
      "Constraint.from_configurations(frozenset({(0, 0, 1, 0), (0, 1, 1, 1), (1, 0, 1, 1), (0, 1, 0, 0), (1, 0, 0, 0), (1, 1, 0, 1)}), (0, 1, 3, 2), Vartype.BINARY, name='2-in-4')\n"
     ]
    },
    {
     "data": {
      "text/plain": "BinaryQuadraticModel({0: -4.0, 1: -4.0, 2: 4.0, 3: 4.0}, {(0, 1): 8.0, (0, 2): 0.0, (0, 3): 0.0, (1, 2): 0.0, (1, 3): 0.0, (2, 3): -8.0}, 4.0, 'BINARY')"
     },
     "execution_count": 93,
     "metadata": {},
     "output_type": "execute_result"
    }
   ],
   "source": [
    "\n",
    "\n",
    "# define the csp\n",
    "csp = dwavebinarycsp.factories.random_2in4sat(4, 2) \n",
    "print(type(csp))\n",
    "for i in range(len(csp.constraints)):\n",
    "    print(csp.constraints[i])\n",
    "\n",
    "# generate the bqm from the csp\n",
    "import warnings\n",
    "np.warnings.filterwarnings(\"ignore\", category=DeprecationWarning)\n",
    "\n",
    "bqm = dwavebinarycsp.stitch(csp)\n",
    "bqm"
   ]
  },
  {
   "cell_type": "code",
   "execution_count": null,
   "metadata": {},
   "outputs": [
    {
     "name": "stdout",
     "output_type": "stream",
     "text": [
      "----------------------------------------------------------------------------------------------------------------------------------------------------------------\n",
      "                                   Set 0                                   Set 1                 Energy                                  Count                  \n",
      "----------------------------------------------------------------------------------------------------------------------------------------------------------------\n",
      "                               [0, 2, 3]                                     [1]                  0.0                                      4                    \n",
      "                               [0, 1, 2]                                     [3]                  0.0                                      5                    \n",
      "                                     [3]                               [0, 1, 2]                  0.0                                      7                    \n",
      "                                     [1]                               [0, 2, 3]                  0.0                                      4                    \n",
      "----------------------------------------------------------------------------------------------------------------------------------------------------------------\n",
      "                                   Set 0                                   Set 1                 Energy                                  Count                  \n",
      "----------------------------------------------------------------------------------------------------------------------------------------------------------------\n",
      "                               [0, 1, 2]                                     [3]                  0.0                                      6                    \n",
      "                                     [3]                               [0, 1, 2]                  0.0                                      4                    \n",
      "                               [0, 2, 3]                                     [1]                  0.0                                      1                    \n",
      "                                     [1]                               [0, 2, 3]                  0.0                                      9                    \n"
     ]
    }
   ],
   "source": [
    "resp_san = simulated_annealing(bqm)\n",
    "resp_qpu = real_annealing(bqm)\n",
    "\n",
    "print_response_data(resp_san.aggregate())\n",
    "print_response_data(resp_qpu.aggregate())\n"
   ]
  },
  {
   "cell_type": "code",
   "execution_count": null,
   "metadata": {},
   "outputs": [],
   "source": [
    "Q_sim, y_sim = return_solution()"
   ]
  }
 ],
 "metadata": {
  "kernelspec": {
   "display_name": "Python 3.9.5 64-bit ('aqml': conda)",
   "name": "python395jvsc74a57bd0814f07c2ef0a0834c4cae908e9df308d0f5fb991f431bbb719e307a4c116e3ea"
  },
  "language_info": {
   "codemirror_mode": {
    "name": "ipython",
    "version": 3
   },
   "file_extension": ".py",
   "mimetype": "text/x-python",
   "name": "python",
   "nbconvert_exporter": "python",
   "pygments_lexer": "ipython3",
   "version": "3.9.5"
  },
  "metadata": {
   "interpreter": {
    "hash": "814f07c2ef0a0834c4cae908e9df308d0f5fb991f431bbb719e307a4c116e3ea"
   }
  },
  "orig_nbformat": 2
 },
 "nbformat": 4,
 "nbformat_minor": 2
}