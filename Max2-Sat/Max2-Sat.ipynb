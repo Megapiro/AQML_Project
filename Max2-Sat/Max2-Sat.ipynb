{
 "cells": [
  {
   "cell_type": "markdown",
   "metadata": {},
   "source": [
    "# Max 2-Sat\n",
    "\n",
    "For the problem representation we used a standard format, widely accepted for boolean formulas in CNF, called [DIMACS](https://www.cs.utexas.edu/users/moore/acl2/manuals/current/manual/index-seo.php/SATLINK____DIMACS).\n",
    "\n",
    "`usage` : change `PATH` variable, in the cell containing parameters, to choose the file of the problem you want to solve\n",
    "\n"
   ]
  },
  {
   "cell_type": "code",
   "execution_count": 14,
   "metadata": {},
   "outputs": [],
   "source": [
    "from dwave.system.samplers import DWaveSampler\n",
    "from dwave.system.composites import EmbeddingComposite\n",
    "from neal import SimulatedAnnealingSampler\n",
    "\n",
    "import numpy as np\n",
    "import dwavebinarycsp\n",
    "import dimod\n",
    "import itertools \n",
    "import minorminer\n",
    "import networkx as nx\n",
    "import dwave_networkx as dnx"
   ]
  },
  {
   "cell_type": "code",
   "execution_count": 16,
   "metadata": {},
   "outputs": [],
   "source": [
    "# parameters\n",
    "\n",
    "TOKEN = 'DEV-dadab771e1ad528a25146defb4c58b1e0fe50b33' # API dwave\n",
    "PATH = 'testing_sat/02-sat.txt' # current problem to solve\n",
    "NUM_READS_SQA = 20\n",
    "NUM_READS_QPU = 20\n",
    "CHAIN_STRENGTH = 8"
   ]
  },
  {
   "cell_type": "markdown",
   "metadata": {},
   "source": [
    "# Create QUBO\n",
    "\n",
    "In order to create the QUBO of a MAX 2 SAT problem we followed [Glover 2019](https://arxiv.org/pdf/1811.11538.pdf). The formulas to convert traditional constraints into quadratic penalties can be found on page 15:\n",
    "\n",
    "\n",
    "1. No negations: \n",
    "    Example $\\left(x_{i} \\vee x_{j}\\right)$ \n",
    "    * Traditional constraint: $x_{i}+x_{j} \\geq 1$ \n",
    "    * Quadratic Penalty: $\\left(1-x_{i}-x_{j}+x_{i} x_{j}\\right)$\n",
    "2. One negation:\n",
    "    Example $\\left(x_{i} \\vee \\bar{x}_{j}\\right)$\n",
    "    * Traditional constraint: $x_{i}+\\bar{x}_{j} \\geq 1$\n",
    "    * Quadratic Penalty: $\\left(x_{j}-x_{i} x_{j}\\right)$\n",
    "3. Two negations: \n",
    "    Example $\\left(\\bar{x}_{i} \\vee \\bar{x}_{j}\\right)$ \n",
    "    * Traditional constraint: $\\bar{x}_{i}+\\bar{x}_{j} \\geq 1$\n",
    "    * Quadratic Penalty: $\\left(x_{i} x_{j}\\right)$\n"
   ]
  },
  {
   "cell_type": "code",
   "execution_count": 17,
   "metadata": {},
   "outputs": [
    {
     "name": "stdout",
     "output_type": "stream",
     "text": [
      "num_clauses 12\n",
      "------------------------------\n",
      "num var 4\n",
      "------------------------------\n",
      "clauses ['1 2', '1 -2', '-1 2', '-1 -2', '-1 3', '-1 -3', '2 -3', '2 4', '-2 3', '-2 -3', '3 4', '-3 -4']\n"
     ]
    }
   ],
   "source": [
    "# extract clauses and num of variables from \n",
    "\n",
    "def extract_clauses(path):\n",
    "    with open(path, \"r\") as f:\n",
    "        # retrieve data from file\n",
    "        sat = f.readlines()\n",
    "        data = sat[0].split(\" \")\n",
    "\n",
    "    n_variables = int(data[2]) \n",
    "\n",
    "    sat = sat[1:]\n",
    "    clauses = [x.replace(' 0\\n', '') for x in sat]\n",
    "    \n",
    "    return clauses, n_variables\n",
    "\n",
    "clauses, n_variables = extract_clauses(PATH) \n",
    "print(f'num_clauses {len(clauses)}')\n",
    "print('-' * 30)  \n",
    "print(f'num var {n_variables}')  \n",
    "print('-' * 30)  \n",
    "print(f'clauses {clauses}')  "
   ]
  },
  {
   "cell_type": "code",
   "execution_count": 18,
   "metadata": {},
   "outputs": [
    {
     "name": "stdout",
     "output_type": "stream",
     "text": [
      "Q is: \n",
      "[[ 1.   0.   0.   0. ]\n",
      " [ 0.   0.  -0.5  0.5]\n",
      " [ 0.  -0.5  0.   1. ]\n",
      " [ 0.   0.5  1.  -2. ]]\n",
      "----------------------------------------\n",
      "c is: 3\n"
     ]
    }
   ],
   "source": [
    "# generate the matrix Q and c\n",
    "\n",
    "def gen_q(clauses, n_variables):\n",
    "    \n",
    "    Q = np.zeros(shape=(n_variables, n_variables))\n",
    "    c = 0\n",
    "    QUBO_graph = nx.Graph()\n",
    "    for clause in clauses:\n",
    "        clause = clause.split(' ')\n",
    "        int_clause = [int(c) for c in clause]\n",
    "\n",
    "        s1, s2 = int_clause[0], int_clause[1]\n",
    "        v1, v2 = abs(s1)-1, abs(s2)-1\n",
    "        QUBO_graph.add_edge(abs(s1), abs(s2))\n",
    "\n",
    "        if s1 > 0 and s2 > 0: # True True\n",
    "            # 1 - x1 - x2 + x1x2\n",
    "            c += 1\n",
    "            Q[v1][v1] += -1 \n",
    "            Q[v2][v2] += -1\n",
    "            Q[v1][v2] += 1/2 \n",
    "            Q[v2][v1] += 1/2\n",
    "        elif s1 > 0 and s2 < 0: # True False\n",
    "            # x2 - x1x2\n",
    "            Q[v2][v2] += 1\n",
    "            Q[v1][v2] += -1/2 \n",
    "            Q[v2][v1] += -1/2\n",
    "\n",
    "        elif s1 < 0 and s2 > 0: # False True\n",
    "            # x1 - x1x2\n",
    "            Q[v1][v1] += 1\n",
    "            Q[v1][v2] += -1/2 \n",
    "            Q[v2][v1] += -1/2\n",
    "\n",
    "        elif s1 < 0 and s2 < 0: # False False\n",
    "            # x1x2\n",
    "            Q[v1][v2] += 1/2 \n",
    "            Q[v2][v1] += 1/2\n",
    "\n",
    "        else:\n",
    "            pass # throw error\n",
    "            \n",
    "    return Q, c, QUBO_graph\n",
    "\n",
    "Q, c, QUBO_graph = gen_q(clauses, n_variables)\n",
    "\n",
    "print(f'Q is: \\n{Q}')\n",
    "print('-' * 40)\n",
    "print(f'c is: {c}')"
   ]
  },
  {
   "cell_type": "markdown",
   "metadata": {},
   "source": [
    "## Create BQM"
   ]
  },
  {
   "cell_type": "code",
   "execution_count": 21,
   "metadata": {},
   "outputs": [
    {
     "data": {
      "text/plain": "BinaryQuadraticModel({x_1: 1.0, x_2: 0.0, x_3: 0.0, x_4: -2.0}, {('x_2', 'x_3'): -1.0, ('x_2', 'x_4'): 1.0, ('x_3', 'x_4'): 2.0}, 0.0, 'BINARY')"
     },
     "execution_count": 21,
     "metadata": {},
     "output_type": "execute_result"
    }
   ],
   "source": [
    "# Create BQM\n",
    "variable_order = [\"x_{}\".format(n) for n in range(1, n_variables+1)]\n",
    "BQM = dimod.BinaryQuadraticModel.from_numpy_matrix(Q, variable_order = variable_order)\n",
    "BQM"
   ]
  },
  {
   "cell_type": "markdown",
   "metadata": {},
   "source": [
    "# Solve\n",
    "\n",
    "We now solve the problem through both simulated and real quantum annealing showing the results obtained.  "
   ]
  },
  {
   "cell_type": "code",
   "execution_count": 22,
   "metadata": {},
   "outputs": [],
   "source": [
    "def print_response_data(response):\n",
    "    # ------- Print results to user -------\n",
    "    print('-' * 160)\n",
    "    print('{:>40s}{:>40s}{:^40s}{:^40s}'.format('Set 0','Set 1','Energy',\"Count\"))\n",
    "    print('-' * 160)\n",
    "    for sample, E, occ in response.data(fields=['sample','energy',\"num_occurrences\"]):\n",
    "        S0 = [k for k,v in sample.items() if v == 0]\n",
    "        S1 = [k for k,v in sample.items() if v == 1]\n",
    "        print('{:>40s}{:>40s}{:^40s}{:^40s}'.format(str(S0),str(S1),str(E),str(occ)))"
   ]
  },
  {
   "cell_type": "markdown",
   "metadata": {},
   "source": [
    "## Simulated Quantum Annealing"
   ]
  },
  {
   "cell_type": "code",
   "execution_count": 24,
   "metadata": {},
   "outputs": [],
   "source": [
    "def simulated_annealing(bqm):\n",
    "    sampler = SimulatedAnnealingSampler()\n",
    "    response_SQA = sampler.sample(bqm, num_reads=NUM_READS_SQA, chain_strength=CHAIN_STRENGTH)\n",
    "    return response_SQA"
   ]
  },
  {
   "cell_type": "markdown",
   "metadata": {},
   "source": [
    "## Real Quantum Annealing"
   ]
  },
  {
   "cell_type": "code",
   "execution_count": 25,
   "metadata": {},
   "outputs": [],
   "source": [
    "def real_annealing(bqm):\n",
    "    sampler = EmbeddingComposite(DWaveSampler(token=TOKEN))\n",
    "    response_QPU = sampler.sample(bqm, num_reads=NUM_READS_QPU, chain_strength=CHAIN_STRENGTH)\n",
    "    return response_QPU"
   ]
  },
  {
   "cell_type": "markdown",
   "metadata": {},
   "source": [
    "# Results\n",
    "In the result we select the most frequent solution and we show both the optimal number of unsatisfied constraints and the assignment of the optimal solution"
   ]
  },
  {
   "cell_type": "code",
   "execution_count": 43,
   "metadata": {},
   "outputs": [],
   "source": [
    "# retrieve result with the best counts\n",
    "\n",
    "def return_solution(response, Q, c):\n",
    "    count = 0\n",
    "    for i in range(len(response)):\n",
    "        new_count = response[i][2]\n",
    "        if  new_count > count:\n",
    "            best = response[i][0]\n",
    "            count = new_count\n",
    "    \n",
    "    y = c + np.matmul(np.matmul(best.T, Q), best) \n",
    "\n",
    "    return y, best\n",
    "\n",
    "def print_solution(response, Q, c):\n",
    "    y, best = return_solution(response.aggregate().record, Q, c)\n",
    "    print(f'y is {int(y)} (optimal number of unsitisfied constraints)')\n",
    "\n",
    "    for v in range(n_variables):\n",
    "        print(f'x_{v+1} = {True if best[v] else False}')\n",
    "\n",
    "def compare_simulation_real(resp_simulation, resp_real, Q, c):\n",
    "    y_sim, best_sim = return_solution(resp_simulation.aggregate().record, Q, c)\n",
    "    y_real, best_real = return_solution(resp_real.aggregate().record, Q, c)\n",
    "    print(f'y simulation is {int(y_sim)}, y real is {int(y_real)} (optimal number of unsitisfied constraints)')\n",
    "\n",
    "    sim_assignment = [best_sim[v] for v in range(n_variables)]\n",
    "    real_assignment = [best_real[v] for v in range(n_variables)]\n",
    "\n",
    "    count = 0\n",
    "    for s, r in zip(sim_assignment, real_assignment):\n",
    "        if r != s: \n",
    "            count += 1\n",
    "\n",
    "    print(f'real and simulation assignment differ by: {count}')"
   ]
  },
  {
   "cell_type": "markdown",
   "metadata": {},
   "source": [
    "## Simulated Quantum Annealing"
   ]
  },
  {
   "cell_type": "code",
   "execution_count": 44,
   "metadata": {},
   "outputs": [],
   "source": [
    "response_SQA = simulated_annealing(BQM)"
   ]
  },
  {
   "cell_type": "code",
   "execution_count": 45,
   "metadata": {},
   "outputs": [
    {
     "name": "stdout",
     "output_type": "stream",
     "text": [
      "----------------------------------------------------------------------------------------------------------------------------------------------------------------\n",
      "                                   Set 0                                   Set 1                 Energy                                  Count                  \n",
      "----------------------------------------------------------------------------------------------------------------------------------------------------------------\n",
      "                   ['x_1', 'x_2', 'x_3']                                 ['x_4']                  -2.0                                     20                   \n"
     ]
    }
   ],
   "source": [
    "print_response_data(response_SQA.aggregate())"
   ]
  },
  {
   "cell_type": "code",
   "execution_count": 46,
   "metadata": {},
   "outputs": [
    {
     "name": "stdout",
     "output_type": "stream",
     "text": [
      "y is 1 (optimal number of unsitisfied constraints)\n",
      "x_1 = False\n",
      "x_2 = False\n",
      "x_3 = False\n",
      "x_4 = True\n"
     ]
    }
   ],
   "source": [
    "print_solution(response_SQA, Q, c)"
   ]
  },
  {
   "cell_type": "markdown",
   "metadata": {},
   "source": [
    "## Real Quantum Annealing\n"
   ]
  },
  {
   "cell_type": "code",
   "execution_count": 47,
   "metadata": {},
   "outputs": [],
   "source": [
    "response_QPU = real_annealing(BQM)"
   ]
  },
  {
   "cell_type": "code",
   "execution_count": 48,
   "metadata": {},
   "outputs": [
    {
     "name": "stdout",
     "output_type": "stream",
     "text": [
      "----------------------------------------------------------------------------------------------------------------------------------------------------------------\n",
      "                                   Set 0                                   Set 1                 Energy                                  Count                  \n",
      "----------------------------------------------------------------------------------------------------------------------------------------------------------------\n",
      "                   ['x_1', 'x_2', 'x_3']                                 ['x_4']                  -2.0                                     20                   \n"
     ]
    }
   ],
   "source": [
    "print_response_data(response_QPU)"
   ]
  },
  {
   "cell_type": "code",
   "execution_count": 49,
   "metadata": {},
   "outputs": [
    {
     "name": "stdout",
     "output_type": "stream",
     "text": [
      "y is 1 (optimal number of unsitisfied constraints)\n",
      "x_1 = False\n",
      "x_2 = False\n",
      "x_3 = False\n",
      "x_4 = True\n"
     ]
    }
   ],
   "source": [
    "print_solution(response_QPU, Q, c)"
   ]
  },
  {
   "cell_type": "markdown",
   "metadata": {},
   "source": [
    "# Number of required Qubits"
   ]
  },
  {
   "cell_type": "code",
   "execution_count": 50,
   "metadata": {},
   "outputs": [
    {
     "data": {
      "text/plain": "{1: [1175], 2: [1190], 3: [4026], 4: [4041]}"
     },
     "execution_count": 50,
     "metadata": {},
     "output_type": "execute_result"
    }
   ],
   "source": [
    "device = DWaveSampler(token=TOKEN)\n",
    "device.solver.data['id']\n",
    "\n",
    "QPU_graph = device.solver.data['properties'][\"couplers\"]\n",
    "\n",
    "embedded_graph = minorminer.find_embedding(QUBO_graph.edges(), QPU_graph)\n",
    "\n",
    "embedded_graph"
   ]
  },
  {
   "cell_type": "code",
   "execution_count": 51,
   "metadata": {},
   "outputs": [
    {
     "name": "stdout",
     "output_type": "stream",
     "text": [
      "Embedding requires 4 qubits and has chain lengths between 1-1\n"
     ]
    }
   ],
   "source": [
    "sublist = [values for keys, values in embedded_graph.items()]\n",
    "flat_list = set(itertools.chain(*sublist))    \n",
    "\n",
    "max_chain_length = None\n",
    "min_chain_length = None\n",
    "\n",
    "for _, chain in embedded_graph.items():\n",
    "    if max_chain_length is None:\n",
    "        max_chain_length = len(chain)\n",
    "        min_chain_length = len(chain)\n",
    "\n",
    "    if len(chain) > max_chain_length:\n",
    "        max_chain_length = len(chain)\n",
    "\n",
    "    if len(chain) < min_chain_length:\n",
    "        min_chain_length = len(chain)\n",
    "\n",
    "    \n",
    "print(\"Embedding requires {} qubits and has chain lengths between {}-{}\".format(len(flat_list),min_chain_length, max_chain_length))"
   ]
  },
  {
   "cell_type": "markdown",
   "metadata": {},
   "source": [
    "# Visualization"
   ]
  },
  {
   "cell_type": "code",
   "execution_count": 52,
   "metadata": {},
   "outputs": [
    {
     "name": "stdout",
     "output_type": "stream",
     "text": [
      "y simulation is 1, y real is 1 (optimal number of unsitisfied constraints)\n",
      "real and simulation assignment differ by: 0\n"
     ]
    }
   ],
   "source": [
    "# solutions comparison\n",
    "compare_simulation_real(response_SQA, response_QPU, Q, c)"
   ]
  },
  {
   "cell_type": "code",
   "execution_count": 53,
   "metadata": {},
   "outputs": [
    {
     "data": {
      "text/plain": "<matplotlib.colorbar.Colorbar at 0x7f10aa7d48e0>"
     },
     "execution_count": 53,
     "metadata": {},
     "output_type": "execute_result"
    },
    {
     "data": {
      "image/png": "[encoded data removed]",
      "text/plain": "<Figure size 432x288 with 2 Axes>"
     },
     "metadata": {
      "needs_background": "light"
     },
     "output_type": "display_data"
    }
   ],
   "source": [
    "from matplotlib import pyplot as plt\n",
    "\n",
    "plt.imshow(Q, cmap='jet')\n",
    "plt.colorbar()"
   ]
  },
  {
   "cell_type": "markdown",
   "metadata": {},
   "source": [
    "# Testing"
   ]
  },
  {
   "cell_type": "code",
   "execution_count": 61,
   "metadata": {},
   "outputs": [
    {
     "name": "stdout",
     "output_type": "stream",
     "text": [
      "qpu_sampling_time: 1618μs\n",
      "qpu_anneal_time_per_sample: 20μs\n",
      "qpu_readout_time_per_sample: 40μs\n",
      "qpu_access_time: 17424μs\n",
      "qpu_access_overhead_time: 12819μs\n",
      "qpu_programming_time: 15806μs\n",
      "qpu_delay_time_per_sample: 21μs\n",
      "total_post_processing_time: 422μs\n",
      "post_processing_overhead_time: 422μs\n",
      "total time: 48592μs\n"
     ]
    }
   ],
   "source": [
    "time_labels = [\n",
    "'qpu_sampling_time', \n",
    "'qpu_anneal_time_per_sample', \n",
    "'qpu_readout_time_per_sample', \n",
    "'qpu_access_time', \n",
    "'qpu_access_overhead_time', \n",
    "'qpu_programming_time', \n",
    "'qpu_delay_time_per_sample', \n",
    "'total_post_processing_time', \n",
    "'post_processing_overhead_time'\n",
    "]\n",
    "\n",
    "total_time = 0\n",
    "for t in time_labels:\n",
    "    time = response_QPU.info[\"timing\"][t]\n",
    "    print(f'{t}: {time}μs')\n",
    "    total_time += time\n",
    "print(f'total time: {total_time}μs') "
   ]
  },
  {
   "cell_type": "markdown",
   "metadata": {},
   "source": [
    "# Benchmarks Report \n",
    "We tested our implementation with a total of 228 tests, with different number of variables and clauses. In particular we tested for:\n",
    "- 120, 140, 160, 180, 200 variables\n",
    "- 1200 to 2600 clauses\n",
    "\n",
    "Benchmarks for the max2sat testing are taken from [here](http://maxsat.ia.udl.cat/benchmarks/)\n",
    "\n",
    "results can be found [here](http://maxsat.ia.udl.cat/detailed/complete-ms-random-table.html)\n",
    "\n",
    "we report them for simpplicity: (we report only the best optimal result from the best solver for the benchmark)\n",
    "\n",
    "| Label |                                            Meaning                                           |\n",
    "|:-----:|:--------------------------------------------------------------------------------------------:|\n",
    "| S     | Solution {OPTIMUM FOUND or OPT \\| UNSATISFIABLE or UNSAT \\| UNKNOWN \\| Not available or N/A} |\n",
    "| O     | Best solution found                                                                          |\n",
    "| T     | CPU time (TO for Time Out)                                                                   |"
   ]
  },
  {
   "cell_type": "markdown",
   "metadata": {},
   "source": [
    "Below the results for each benchmark, here we reported only QPU programming time and sampling time for simplicity.\n",
    "For a detailed view on all the time for each experiment check q_solutions.txt file.\n",
    "\n",
    "\n",
    "| Benchmark | S | O | T | O_SA | O_RA | QPU programming time | QPU sampling time |\n",
    "|:---------:|:-:|:-:|:-:|:----:|:----:|:--------------------:|:-----------------:|\n",
    "|s2v120c1200-1.cnf|S=OPT | O=161 | T=5.65 | O_SA=324.0 | O_RA=312.0 | Tp=15805 | Ts=2735 |\n",
    "|s2v120c1200-2.cnf|S=OPT | O=159 | T=8.40 | O_SA=299.0 | O_RA=289.0 | Tp=15816 | Ts=3114 |\n",
    "|s2v120c1200-3.cnf|S=OPT | O=160 | T=2.70 | O_SA=294.0 | O_RA=290.0 | Tp=15794 | Ts=2804 |\n",
    "|s2v120c1300-1.cnf|S=OPT | O=180 | T=14.94 | O_SA=355.0 | O_RA=325.0 | Tp=15800 | Ts=3302 |\n",
    "|s2v120c1300-2.cnf|S=OPT | O=172 | T=6.29 | O_SA=312.0 | O_RA=305.0 | Tp=15794 | Ts=2965 |\n",
    "|s2v120c1300-3.cnf|S=OPT | O=173 | T=5.96 | O_SA=334.0 | O_RA=307.0 | Tp=15812 | Ts=2789 |\n",
    "|s2v120c1400-1.cnf|S=OPT | O=197 | T=17.17 | O_SA=374.0 | O_RA=368.0 | Tp=15806 | Ts=3264 |\n",
    "|s2v120c1400-2.cnf|S=OPT | O=191 | T=10.06 | O_SA=349.0 | O_RA=338.0 | Tp=15814 | Ts=2897 |\n",
    "|s2v120c1400-3.cnf|S=OPT | O=189 | T=8.30 | O_SA=378.0 | O_RA=381.0 | Tp=15812 | Ts=3315 |\n",
    "|s2v120c1500-1.cnf|S=OPT | O=211 | T=8.00 | O_SA=390.0 | O_RA=401.0 | Tp=15799 | Ts=3196 |\n",
    "|s2v120c1500-2.cnf|S=OPT | O=213 | T=27.02 | O_SA=370.0 | O_RA=390.0 | Tp=15807 | Ts=3180 |\n",
    "|s2v120c1500-3.cnf|S=OPT | O=207 | T=6.18 | O_SA=378.0 | O_RA=394.0 | Tp=15807 | Ts=3257 |\n",
    "|s2v120c1600-1.cnf|S=OPT | O=233 | T=24.19 | O_SA=427.0 | O_RA=408.0 | Tp=15798 | Ts=2952 |\n",
    "|s2v120c1600-2.cnf|S=OPT | O=239 | T=85.74 | O_SA=389.0 | O_RA=402.0 | Tp=15798 | Ts=2942 |\n",
    "|s2v120c1600-3.cnf|S=OPT | O=233 | T=29.73 | O_SA=403.0 | O_RA=405.0 | Tp=15789 | Ts=3070 |\n",
    "|s2v120c1700-1.cnf|S=OPT | O=257 | T=51.12 | O_SA=431.0 | O_RA=459.0 | Tp=15809 | Ts=3087 |\n",
    "|s2v120c1700-2.cnf|S=OPT | O=248 | T=66.38 | O_SA=421.0 | O_RA=406.0 | Tp=15803 | Ts=2885 |\n",
    "|s2v120c1700-3.cnf|S=OPT | O=239 | T=5.69 | O_SA=444.0 | O_RA=454.0 | Tp=15809 | Ts=2938 |\n",
    "|s2v120c1800-1.cnf|S=OPT | O=291 | T=383.01 | O_SA=461.0 | O_RA=464.0 | Tp=15803 | Ts=3350 |\n",
    "|s2v120c1800-2.cnf|S=OPT | O=262 | T=16.59 | O_SA=436.0 | O_RA=481.0 | Tp=15801 | Ts=3235 |\n",
    "|s2v120c1800-3.cnf|S=OPT | O=279 | T=64.81 | O_SA=459.0 | O_RA=441.0 | Tp=15813 | Ts=3142 |\n",
    "|s2v120c1900-1.cnf|S=OPT | O=293 | T=64.83 | O_SA=491.0 | O_RA=492.0 | Tp=15798 | Ts=3266 |\n",
    "|s2v120c1900-2.cnf|S=OPT | O=296 | T=144.99 | O_SA=478.0 | O_RA=478.0 | Tp=15793 | Ts=2829 |\n",
    "|s2v120c1900-3.cnf|S=OPT | O=294 | T=88.19 | O_SA=499.0 | O_RA=476.0 | Tp=15803 | Ts=3018 |\n",
    "|s2v120c2000-1.cnf|S=OPT | O=307 | T=27.04 | O_SA=489.0 | O_RA=500.0 | Tp=15808 | Ts=3050 |\n",
    "|s2v120c2000-2.cnf|S=OPT | O=321 | T=651.59 | O_SA=513.0 | O_RA=512.0 | Tp=15805 | Ts=2842 |\n",
    "|s2v120c2000-3.cnf|S=OPT | O=307 | T=71.32 | O_SA=474.0 | O_RA=472.0 | Tp=15801 | Ts=2940 |\n",
    "|s2v120c2100-1.cnf|S=OPT | O=336 | T=64.23 | O_SA=513.0 | O_RA=492.0 | Tp=15804 | Ts=3279 |\n",
    "|s2v120c2100-2.cnf|S=OPT | O=336 | T=691.62 | O_SA=508.0 | O_RA=505.0 | Tp=15801 | Ts=3241 |\n",
    "|s2v120c2100-3.cnf|S=OPT | O=332 | T=214.08 | O_SA=542.0 | O_RA=487.0 | Tp=15801 | Ts=2821 |\n",
    "|s2v120c2200-1.cnf|S=OPT | O=358 | T=446.53 | O_SA=559.0 | O_RA=547.0 | Tp=15798 | Ts=3378 |\n",
    "|s2v120c2200-2.cnf|S=OPT | O=371 | T=1530.60 | O_SA=532.0 | O_RA=560.0 | Tp=15801 | Ts=3058 |\n",
    "|s2v120c2200-3.cnf|S=OPT | O=359 | T=336.23 | O_SA=561.0 | O_RA=573.0 | Tp=15794 | Ts=2914 |\n",
    "|s2v120c2300-1.cnf|S=OPT | O=380 | T=384.48 | O_SA=550.0 | O_RA=554.0 | Tp=15825 | Ts=3425 |\n",
    "|s2v120c2300-2.cnf|S=OPT | O=383 | T=599.46 | O_SA=570.0 | O_RA=569.0 | Tp=15786 | Ts=3389 |\n",
    "|s2v120c2300-3.cnf|S=OPT | O=365 | T=80.14 | O_SA=554.0 | O_RA=519.0 | Tp=15810 | Ts=3181 |\n",
    "|s2v120c2400-1.cnf|S=OPT | O=389 | T=154.85 | O_SA=617.0 | O_RA=596.0 | Tp=15801 | Ts=2930 |\n",
    "|s2v120c2400-2.cnf|S=OPT | O=402 | T=958.04 | O_SA=596.0 | O_RA=596.0 | Tp=15806 | Ts=3152 |\n",
    "|s2v120c2400-3.cnf|S=OPT | O=380 | T=41.53 | O_SA=624.0 | O_RA=606.0 | Tp=15805 | Ts=3226 |\n",
    "|s2v120c2500-1.cnf|S=OPT | O=418 | T=256.04 | O_SA=605.0 | O_RA=606.0 | Tp=15806 | Ts=3122 |\n",
    "|s2v120c2500-2.cnf|S=N/A | O=N/A | T=TO | O_SA=620.0 | O_RA=622.0 | Tp=15805 | Ts=3315 |\n",
    "|s2v120c2500-3.cnf|S=OPT | O=425 | T=898.11 | O_SA=656.0 | O_RA=626.0 | Tp=15805 | Ts=3404 |\n",
    "|s2v120c2600-1.cnf|S=OPT | O=439 | T=877.77 | O_SA=687.0 | O_RA=654.0 | Tp=15813 | Ts=3390 |\n",
    "|s2v120c2600-2.cnf|S=N/A | O=N/A | T=TO | O_SA=620.0 | O_RA=643.0 | Tp=15817 | Ts=3030 |\n",
    "|s2v120c2600-3.cnf|S=OPT | O=440 | T=447.94 | O_SA=618.0 | O_RA=643.0 | Tp=15805 | Ts=3449 |\n",
    "|s2v140c1200-1.cnf|S=OPT | O=144 | T=6.48 | O_SA=302.0 | O_RA=269.0 | Tp=15804 | Ts=3121 |\n",
    "|s2v140c1200-2.cnf|S=OPT | O=155 | T=156.32 | O_SA=329.0 | O_RA=308.0 | Tp=15819 | Ts=3032 |\n",
    "|s2v140c1200-3.cnf|S=OPT | O=155 | T=17.66 | O_SA=274.0 | O_RA=282.0 | Tp=15809 | Ts=3310 |\n",
    "|s2v140c1300-1.cnf|S=OPT | O=162 | T=23.75 | O_SA=314.0 | O_RA=308.0 | Tp=15801 | Ts=3086 |\n",
    "|s2v140c1300-2.cnf|S=OPT | O=171 | T=109.37 | O_SA=326.0 | O_RA=344.0 | Tp=15804 | Ts=2919 |\n",
    "|s2v140c1300-3.cnf|S=OPT | O=168 | T=30.82 | O_SA=309.0 | O_RA=334.0 | Tp=15791 | Ts=3147 |\n",
    "|s2v140c1400-1.cnf|S=OPT | O=182 | T=46.33 | O_SA=333.0 | O_RA=353.0 | Tp=15795 | Ts=2969 |\n",
    "|s2v140c1400-2.cnf|S=OPT | O=178 | T=24.86 | O_SA=316.0 | O_RA=358.0 | Tp=15809 | Ts=3164 |\n",
    "|s2v140c1400-3.cnf|S=OPT | O=193 | T=144.40 | O_SA=329.0 | O_RA=333.0 | Tp=15814 | Ts=3129 |\n",
    "|s2v140c1500-1.cnf|S=OPT | O=205 | T=145.96 | O_SA=354.0 | O_RA=382.0 | Tp=15800 | Ts=3132 |\n",
    "|s2v140c1500-2.cnf|S=OPT | O=199 | T=129.94 | O_SA=354.0 | O_RA=364.0 | Tp=15797 | Ts=3374 |\n",
    "|s2v140c1500-3.cnf|S=OPT | O=212 | T=450.64 | O_SA=352.0 | O_RA=392.0 | Tp=15810 | Ts=3154 |\n",
    "|s2v140c1600-1.cnf|S=OPT | O=221 | T=99.13 | O_SA=348.0 | O_RA=375.0 | Tp=15799 | Ts=3187 |\n",
    "|s2v140c1600-2.cnf|S=OPT | O=221 | T=160.58 | O_SA=379.0 | O_RA=400.0 | Tp=15801 | Ts=3299 |\n",
    "|s2v140c1600-3.cnf|S=OPT | O=226 | T=246.25 | O_SA=385.0 | O_RA=374.0 | Tp=15807 | Ts=2995 |\n",
    "|s2v140c1700-1.cnf|S=N/A | O=N/A | T=TO | O_SA=447.0 | O_RA=428.0 | Tp=15815 | Ts=3052 |\n",
    "|s2v140c1700-2.cnf|S=OPT | O=242 | T=206.76 | O_SA=415.0 | O_RA=424.0 | Tp=15803 | Ts=3092 |\n",
    "|s2v140c1700-3.cnf|S=OPT | O=236 | T=69.70 | O_SA=453.0 | O_RA=436.0 | Tp=15798 | Ts=3102 |\n",
    "|s2v140c1800-1.cnf|S=OPT | O=254 | T=324.26 | O_SA=459.0 | O_RA=439.0 | Tp=15810 | Ts=2982 |\n",
    "|s2v140c1800-2.cnf|S=OPT | O=257 | T=132.36 | O_SA=474.0 | O_RA=430.0 | Tp=15813 | Ts=3433 |\n",
    "|s2v140c1800-3.cnf|S=OPT | O=255 | T=67.50 | O_SA=458.0 | O_RA=410.0 | Tp=15809 | Ts=3317 |\n",
    "|s2v140c1900-1.cnf|S=N/A | O=N/A | T=TO | O_SA=464.0 | O_RA=469.0 | Tp=15797 | Ts=3318 |\n",
    "|s2v140c1900-2.cnf|S=OPT | O=273 | T=53.78 | O_SA=467.0 | O_RA=466.0 | Tp=15791 | Ts=3095 |\n",
    "|s2v140c1900-3.cnf|S=OPT | O=278 | T=268.61 | O_SA=486.0 | O_RA=457.0 | Tp=15807 | Ts=3086 |\n",
    "|s2v140c2000-1.cnf|S=OPT | O=298 | T=535.22 | O_SA=451.0 | O_RA=474.0 | Tp=15813 | Ts=3356 |\n",
    "|s2v140c2000-2.cnf|S=OPT | O=308 | T=1178.33 | O_SA=536.0 | O_RA=529.0 | Tp=15800 | Ts=3098 |\n",
    "|s2v140c2000-3.cnf|S=OPT | O=296 | T=269.67 | O_SA=515.0 | O_RA=496.0 | Tp=15814 | Ts=3050 |\n",
    "|s2v140c2100-1.cnf|S=OPT | O=293 | T=33.99 | O_SA=485.0 | O_RA=502.0 | Tp=15806 | Ts=3406 |\n",
    "|s2v140c2100-2.cnf|S=OPT | O=310 | T=190.04 | O_SA=505.0 | O_RA=516.0 | Tp=15787 | Ts=3150 |\n",
    "|s2v140c2100-3.cnf|S=OPT | O=319 | T=593.53 | O_SA=511.0 | O_RA=545.0 | Tp=15812 | Ts=3021 |\n",
    "|s2v140c2200-1.cnf|S=OPT | O=336 | T=1014.50 | O_SA=571.0 | O_RA=549.0 | Tp=15793 | Ts=3084 |\n",
    "|s2v140c2200-2.cnf|S=OPT | O=332 | T=952.96 | O_SA=537.0 | O_RA=528.0 | Tp=15803 | Ts=3334 |\n",
    "|s2v140c2200-3.cnf|S=OPT | O=329 | T=397.21 | O_SA=562.0 | O_RA=574.0 | Tp=15795 | Ts=3178 |\n",
    "|s2v140c2300-1.cnf|S=N/A | O=N/A | T=TO | O_SA=574.0 | O_RA=558.0 | Tp=15793 | Ts=3407 |\n",
    "|s2v140c2300-2.cnf|S=N/A | O=N/A | T=TO | O_SA=581.0 | O_RA=553.0 | Tp=15802 | Ts=3295 |\n",
    "|s2v140c2300-3.cnf|S=OPT | O=352 | T=880.10 | O_SA=557.0 | O_RA=564.0 | Tp=15781 | Ts=3250 |\n",
    "|s2v140c2400-1.cnf|S=N/A | O=N/A | T=TO | O_SA=586.0 | O_RA=617.0 | Tp=15807 | Ts=3111 |\n",
    "|s2v140c2400-2.cnf|S=N/A | O=N/A | T=TO | O_SA=596.0 | O_RA=601.0 | Tp=15790 | Ts=3292 |\n",
    "|s2v140c2400-3.cnf|S=N/A | O=N/A | T=TO | O_SA=599.0 | O_RA=592.0 | Tp=15798 | Ts=3250 |\n",
    "|s2v140c2500-1.cnf|S=OPT | O=393 | T=837.06 | O_SA=588.0 | O_RA=586.0 | Tp=15799 | Ts=3362 |\n",
    "|s2v140c2500-2.cnf|S=N/A | O=N/A | T=TO | O_SA=638.0 | O_RA=616.0 | Tp=15809 | Ts=3399 |\n",
    "|s2v140c2500-3.cnf|S=N/A | O=N/A | T=TO | O_SA=590.0 | O_RA=625.0 | Tp=15806 | Ts=3038 |\n",
    "|s2v140c2600-1.cnf|S=N/A | O=N/A | T=TO | O_SA=688.0 | O_RA=644.0 | Tp=15805 | Ts=3347 |\n",
    "|s2v140c2600-2.cnf|S=N/A | O=N/A | T=TO | O_SA=652.0 | O_RA=630.0 | Tp=15805 | Ts=3157 |\n",
    "|s2v140c2600-3.cnf|S=OPT | O=406 | T=961.82 | O_SA=644.0 | O_RA=661.0 | Tp=15816 | Ts=3406 |\n",
    "|s2v160c1200-1.cnf|S=OPT | O=142 | T=43.42 | O_SA=294.0 | O_RA=309.0 | Tp=15821 | Ts=3213 |\n",
    "|s2v160c1200-2.cnf|S=OPT | O=133 | T=8.96 | O_SA=322.0 | O_RA=309.0 | Tp=15798 | Ts=3064 |\n",
    "|s2v160c1200-3.cnf|S=OPT | O=143 | T=86.49 | O_SA=296.0 | O_RA=307.0 | Tp=15797 | Ts=3140 |\n",
    "|s2v160c1300-1.cnf|S=OPT | O=167 | T=337.15 | O_SA=317.0 | O_RA=328.0 | Tp=15799 | Ts=3103 |\n",
    "|s2v160c1300-2.cnf|S=OPT | O=139 | T=2.90 | O_SA=319.0 | O_RA=338.0 | Tp=15815 | Ts=3236 |\n",
    "|s2v160c1300-3.cnf|S=OPT | O=157 | T=86.01 | O_SA=303.0 | O_RA=329.0 | Tp=15797 | Ts=3166 |\n",
    "|s2v160c1400-1.cnf|S=OPT | O=166 | T=36.36 | O_SA=358.0 | O_RA=382.0 | Tp=15803 | Ts=3102 |\n",
    "|s2v160c1400-2.cnf|S=OPT | O=164 | T=38.99 | O_SA=333.0 | O_RA=365.0 | Tp=15810 | Ts=3151 |\n",
    "|s2v160c1400-3.cnf|S=OPT | O=167 | T=21.86 | O_SA=350.0 | O_RA=379.0 | Tp=15795 | Ts=3052 |\n",
    "|s2v160c1500-1.cnf|S=OPT | O=183 | T=14.22 | O_SA=396.0 | O_RA=383.0 | Tp=15807 | Ts=3272 |\n",
    "|s2v160c1500-2.cnf|S=OPT | O=200 | T=905.90 | O_SA=369.0 | O_RA=365.0 | Tp=15793 | Ts=3268 |\n",
    "|s2v160c1500-3.cnf|S=OPT | O=184 | T=62.16 | O_SA=389.0 | O_RA=373.0 | Tp=15807 | Ts=3120 |\n",
    "|s2v160c1600-1.cnf|S=N/A | O=N/A | T=TO | O_SA=405.0 | O_RA=419.0 | Tp=15797 | Ts=3329 |\n",
    "|s2v160c1600-2.cnf|S=N/A | O=N/A | T=TO | O_SA=386.0 | O_RA=409.0 | Tp=15799 | Ts=3222 |\n",
    "|s2v160c1600-3.cnf|S=OPT | O=213 | T=743.89 | O_SA=399.0 | O_RA=412.0 | Tp=15791 | Ts=3271 |\n",
    "|s2v160c1700-1.cnf|S=OPT | O=226 | T=659.70 | O_SA=425.0 | O_RA=428.0 | Tp=15809 | Ts=3225 |\n",
    "|s2v160c1700-2.cnf|S=OPT | O=230 | T=572.97 | O_SA=412.0 | O_RA=450.0 | Tp=15803 | Ts=3370 |\n",
    "|s2v160c1700-3.cnf|S=N/A | O=N/A | T=TO | O_SA=435.0 | O_RA=456.0 | Tp=15803 | Ts=3316 |\n",
    "|s2v160c1800-1.cnf|S=N/A | O=N/A | T=TO | O_SA=426.0 | O_RA=452.0 | Tp=15818 | Ts=3258 |\n",
    "|s2v160c1800-2.cnf|S=N/A | O=N/A | T=TO | O_SA=440.0 | O_RA=430.0 | Tp=15805 | Ts=3207 |\n",
    "|s2v160c1800-3.cnf|S=N/A | O=N/A | T=TO | O_SA=465.0 | O_RA=471.0 | Tp=15812 | Ts=3209 |\n",
    "|s2v160c1900-1.cnf|S=OPT | O=261 | T=1241.31 | O_SA=459.0 | O_RA=465.0 | Tp=15806 | Ts=3205 |\n",
    "|s2v160c1900-2.cnf|S=OPT | O=262 | T=1480.92 | O_SA=490.0 | O_RA=473.0 | Tp=15805 | Ts=3330 |\n",
    "|s2v160c1900-3.cnf|S=OPT | O=264 | T=995.23 | O_SA=460.0 | O_RA=483.0 | Tp=15790 | Ts=3404 |\n",
    "|s2v160c2000-1.cnf|S=N/A | O=N/A | T=TO | O_SA=510.0 | O_RA=491.0 | Tp=15795 | Ts=3220 |\n",
    "|s2v160c2000-2.cnf|S=OPT | O=272 | T=92.52 | O_SA=526.0 | O_RA=520.0 | Tp=15800 | Ts=3206 |\n",
    "|s2v160c2000-3.cnf|S=OPT | O=282 | T=790.73 | O_SA=561.0 | O_RA=540.0 | Tp=15794 | Ts=3369 |\n",
    "|s2v160c2100-1.cnf|S=N/A | O=N/A | T=TO | O_SA=535.0 | O_RA=534.0 | Tp=15807 | Ts=3482 |\n",
    "|s2v160c2100-2.cnf|S=N/A | O=N/A | T=TO | O_SA=531.0 | O_RA=546.0 | Tp=15807 | Ts=3488 |\n",
    "|s2v160c2100-3.cnf|S=N/A | O=N/A | T=TO | O_SA=511.0 | O_RA=522.0 | Tp=15799 | Ts=3381 |\n",
    "|s2v160c2200-1.cnf|S=OPT | O=310 | T=642.57 | O_SA=552.0 | O_RA=506.0 | Tp=15815 | Ts=3433 |\n",
    "|s2v160c2200-2.cnf|S=N/A | O=N/A | T=TO | O_SA=550.0 | O_RA=529.0 | Tp=15816 | Ts=3384 |\n",
    "|s2v160c2200-3.cnf|S=N/A | O=N/A | T=TO | O_SA=532.0 | O_RA=530.0 | Tp=15799 | Ts=3399 |\n",
    "|s2v160c2300-1.cnf|S=N/A | O=N/A | T=TO | O_SA=572.0 | O_RA=569.0 | Tp=15801 | Ts=3394 |\n",
    "|s2v160c2300-2.cnf|S=N/A | O=N/A | T=TO | O_SA=617.0 | O_RA=591.0 | Tp=15807 | Ts=3350 |\n",
    "|s2v160c2300-3.cnf|S=N/A | O=N/A | T=TO | O_SA=576.0 | O_RA=561.0 | Tp=15812 | Ts=3420 |\n",
    "|s2v160c2400-1.cnf|S=N/A | O=N/A | T=TO | O_SA=594.0 | O_RA=618.0 | Tp=15807 | Ts=3397 |\n",
    "|s2v160c2400-2.cnf|S=N/A | O=N/A | T=TO | O_SA=596.0 | O_RA=568.0 | Tp=15805 | Ts=3404 |\n",
    "|s2v160c2400-3.cnf|S=N/A | O=N/A | T=TO | O_SA=603.0 | O_RA=574.0 | Tp=15783 | Ts=3433 |\n",
    "|s2v160c2500-1.cnf|S=N/A | O=N/A | T=TO | O_SA=624.0 | O_RA=626.0 | Tp=15803 | Ts=3456 |\n",
    "|s2v160c2500-2.cnf|S=N/A | O=N/A | T=TO | O_SA=630.0 | O_RA=650.0 | Tp=15796 | Ts=3459 |\n",
    "|s2v160c2500-3.cnf|S=N/A | O=N/A | T=TO | O_SA=621.0 | O_RA=631.0 | Tp=15804 | Ts=3470 |\n",
    "|s2v160c2600-1.cnf|S=OPT | O=392 | T=1596.27 | O_SA=655.0 | O_RA=642.0 | Tp=15801 | Ts=3337 |\n",
    "|s2v160c2600-2.cnf|S=N/A | O=N/A | T=TO | O_SA=627.0 | O_RA=679.0 | Tp=15809 | Ts=3386 |\n",
    "|s2v160c2600-3.cnf|S=N/A | O=N/A | T=TO | O_SA=615.0 | O_RA=653.0 | Tp=15806 | Ts=3470 |\n",
    "|s2v180c1200-1.cnf|S=OPT | O=134 | T=147.86 | O_SA=301.0 | O_RA=293.0 | Tp=15810 | Ts=3125 |\n",
    "|s2v180c1200-2.cnf|S=OPT | O=130 | T=79.94 | O_SA=275.0 | O_RA=281.0 | Tp=15807 | Ts=3342 |\n",
    "|s2v180c1200-3.cnf|S=OPT | O=131 | T=156.38 | O_SA=313.0 | O_RA=318.0 | Tp=15812 | Ts=3162 |\n",
    "|s2v180c1200-4.cnf|S=OPT | O=128 | T=135.96 | O_SA=293.0 | O_RA=301.0 | Tp=15801 | Ts=3236 |\n",
    "|s2v180c1300-1.cnf|S=OPT | O=153 | T=646.96 | O_SA=321.0 | O_RA=319.0 | Tp=15795 | Ts=3242 |\n",
    "|s2v180c1300-2.cnf|S=OPT | O=138 | T=43.39 | O_SA=356.0 | O_RA=341.0 | Tp=15798 | Ts=3200 |\n",
    "|s2v180c1300-3.cnf|S=OPT | O=150 | T=165.80 | O_SA=319.0 | O_RA=314.0 | Tp=15810 | Ts=3266 |\n",
    "|s2v180c1300-4.cnf|S=OPT | O=149 | T=288.42 | O_SA=309.0 | O_RA=323.0 | Tp=15807 | Ts=3189 |\n",
    "|s2v180c1400-1.cnf|S=OPT | O=165 | T=433.80 | O_SA=326.0 | O_RA=356.0 | Tp=15801 | Ts=3372 |\n",
    "|s2v180c1400-2.cnf|S=OPT | O=165 | T=514.80 | O_SA=348.0 | O_RA=333.0 | Tp=15804 | Ts=3241 |\n",
    "|s2v180c1400-3.cnf|S=OPT | O=156 | T=133.24 | O_SA=343.0 | O_RA=339.0 | Tp=15804 | Ts=3316 |\n",
    "|s2v180c1400-4.cnf|S=OPT | O=160 | T=245.56 | O_SA=327.0 | O_RA=351.0 | Tp=15808 | Ts=3211 |\n",
    "|s2v180c1500-1.cnf|S=OPT | O=184 | T=1633.85 | O_SA=379.0 | O_RA=389.0 | Tp=15807 | Ts=3293 |\n",
    "|s2v180c1500-2.cnf|S=OPT | O=180 | T=1434.90 | O_SA=381.0 | O_RA=357.0 | Tp=15803 | Ts=3266 |\n",
    "|s2v180c1500-3.cnf|S=OPT | O=179 | T=291.29 | O_SA=374.0 | O_RA=353.0 | Tp=15798 | Ts=3342 |\n",
    "|s2v180c1500-4.cnf|S=OPT | O=181 | T=406.46 | O_SA=357.0 | O_RA=378.0 | Tp=15813 | Ts=3197 |\n",
    "|s2v180c1600-1.cnf|S=N/A | O=N/A | T=TO | O_SA=401.0 | O_RA=382.0 | Tp=15812 | Ts=3390 |\n",
    "|s2v180c1600-2.cnf|S=N/A | O=N/A | T=TO | O_SA=374.0 | O_RA=365.0 | Tp=15803 | Ts=3331 |\n",
    "|s2v180c1600-3.cnf|S=N/A | O=N/A | T=TO | O_SA=406.0 | O_RA=413.0 | Tp=15797 | Ts=3244 |\n",
    "|s2v180c1600-4.cnf|S=N/A | O=N/A | T=TO | O_SA=402.0 | O_RA=384.0 | Tp=15820 | Ts=3231 |\n",
    "|s2v180c1700-1.cnf|S=N/A | O=N/A | T=TO | O_SA=410.0 | O_RA=392.0 | Tp=15803 | Ts=3278 |\n",
    "|s2v180c1700-2.cnf|S=N/A | O=N/A | T=TO | O_SA=406.0 | O_RA=397.0 | Tp=15813 | Ts=3412 |\n",
    "|s2v180c1700-3.cnf|S=OPT | O=209 | T=1066.08 | O_SA=435.0 | O_RA=460.0 | Tp=15809 | Ts=3265 |\n",
    "|s2v180c1700-4.cnf|S=OPT | O=206 | T=266.32 | O_SA=421.0 | O_RA=409.0 | Tp=15807 | Ts=3426 |\n",
    "|s2v180c1800-1.cnf|S=N/A | O=N/A | T=TO | O_SA=424.0 | O_RA=442.0 | Tp=15805 | Ts=3412 |\n",
    "|s2v180c1800-2.cnf|S=N/A | O=N/A | T=TO | O_SA=454.0 | O_RA=423.0 | Tp=15806 | Ts=3430 |\n",
    "|s2v180c1800-3.cnf|S=OPT | O=232 | T=1359.50 | O_SA=429.0 | O_RA=421.0 | Tp=15826 | Ts=3382 |\n",
    "|s2v180c1800-4.cnf|S=N/A | O=N/A | T=TO | O_SA=444.0 | O_RA=422.0 | Tp=15805 | Ts=3389 |\n",
    "|s2v180c1900-1.cnf|S=OPT | O=245 | T=657.85 | O_SA=439.0 | O_RA=465.0 | Tp=15799 | Ts=3394 |\n",
    "|s2v180c1900-2.cnf|S=N/A | O=N/A | T=TO | O_SA=482.0 | O_RA=479.0 | Tp=15811 | Ts=3398 |\n",
    "|s2v180c1900-3.cnf|S=N/A | O=N/A | T=TO | O_SA=494.0 | O_RA=442.0 | Tp=15809 | Ts=3490 |\n",
    "|s2v180c1900-4.cnf|S=N/A | O=N/A | T=TO | O_SA=498.0 | O_RA=465.0 | Tp=15825 | Ts=3455 |\n",
    "|s2v180c2000-1.cnf|S=N/A | O=N/A | T=TO | O_SA=455.0 | O_RA=466.0 | Tp=15806 | Ts=3375 |\n",
    "|s2v180c2000-2.cnf|S=N/A | O=N/A | T=TO | O_SA=485.0 | O_RA=506.0 | Tp=15814 | Ts=3481 |\n",
    "|s2v180c2000-3.cnf|S=N/A | O=N/A | T=TO | O_SA=488.0 | O_RA=462.0 | Tp=15793 | Ts=3467 |\n",
    "|s2v180c2000-4.cnf|S=N/A | O=N/A | T=TO | O_SA=538.0 | O_RA=481.0 | Tp=15802 | Ts=3482 |\n",
    "|s2v180c2100-1.cnf|S=N/A | O=N/A | T=TO | O_SA=506.0 | O_RA=521.0 | Tp=15811 | Ts=3472 |\n",
    "|s2v180c2100-2.cnf|S=N/A | O=N/A | T=TO | O_SA=548.0 | O_RA=535.0 | Tp=15814 | Ts=3490 |\n",
    "|s2v180c2100-3.cnf|S=N/A | O=N/A | T=TO | O_SA=549.0 | O_RA=540.0 | Tp=15799 | Ts=3462 |\n",
    "|s2v180c2100-4.cnf|S=N/A | O=N/A | T=TO | O_SA=527.0 | O_RA=554.0 | Tp=15805 | Ts=3433 |\n",
    "|s2v180c2200-1.cnf|S=N/A | O=N/A | T=TO | O_SA=552.0 | O_RA=552.0 | Tp=15785 | Ts=3498 |\n",
    "|s2v180c2200-2.cnf|S=N/A | O=N/A | T=TO | O_SA=542.0 | O_RA=576.0 | Tp=15790 | Ts=3457 |\n",
    "|s2v180c2200-3.cnf|S=N/A | O=N/A | T=TO | O_SA=570.0 | O_RA=562.0 | Tp=15800 | Ts=3498 |\n",
    "|s2v180c2200-4.cnf|S=N/A | O=N/A | T=TO | O_SA=537.0 | O_RA=508.0 | Tp=15803 | Ts=3474 |\n",
    "|s2v200c1200-1.cnf|S=OPT | O=118 | T=133.09 | O_SA=296.0 | O_RA=310.0 | Tp=15811 | Ts=3204 |\n",
    "|s2v200c1200-2.cnf|S=OPT | O=127 | T=332.19 | O_SA=286.0 | O_RA=314.0 | Tp=15804 | Ts=3216 |\n",
    "|s2v200c1200-3.cnf|S=OPT | O=125 | T=475.72 | O_SA=275.0 | O_RA=294.0 | Tp=15800 | Ts=3227 |\n",
    "|s2v200c1200-4.cnf|S=OPT | O=115 | T=29.65 | O_SA=286.0 | O_RA=298.0 | Tp=15798 | Ts=3209 |\n",
    "|s2v200c1200-5.cnf|S=OPT | O=117 | T=148.82 | O_SA=318.0 | O_RA=296.0 | Tp=15793 | Ts=3297 |\n",
    "|s2v200c1200-6.cnf|S=OPT | O=127 | T=275.54 | O_SA=320.0 | O_RA=314.0 | Tp=15807 | Ts=3247 |\n",
    "|s2v200c1200-7.cnf|S=OPT | O=112 | T=17.12 | O_SA=327.0 | O_RA=306.0 | Tp=15811 | Ts=3216 |\n",
    "|s2v200c1300-1.cnf|S=OPT | O=144 | T=655.54 | O_SA=337.0 | O_RA=283.0 | Tp=15818 | Ts=3196 |\n",
    "|s2v200c1300-2.cnf|S=OPT | O=143 | T=874.62 | O_SA=335.0 | O_RA=337.0 | Tp=15809 | Ts=3302 |\n",
    "|s2v200c1300-3.cnf|S=OPT | O=121 | T=62.43 | O_SA=317.0 | O_RA=310.0 | Tp=15813 | Ts=3219 |\n",
    "|s2v200c1300-4.cnf|S=OPT | O=139 | T=306.59 | O_SA=334.0 | O_RA=325.0 | Tp=15808 | Ts=3399 |\n",
    "|s2v200c1300-5.cnf|S=OPT | O=142 | T=572.57 | O_SA=337.0 | O_RA=340.0 | Tp=15806 | Ts=3426 |\n",
    "|s2v200c1300-6.cnf|S=OPT | O=134 | T=517.50 | O_SA=305.0 | O_RA=302.0 | Tp=15799 | Ts=3291 |\n",
    "|s2v200c1300-7.cnf|S=OPT | O=128 | T=32.98 | O_SA=307.0 | O_RA=312.0 | Tp=15813 | Ts=3275 |\n",
    "|s2v200c1400-1.cnf|S=OPT | O=156 | T=756.32 | O_SA=354.0 | O_RA=334.0 | Tp=15801 | Ts=3342 |\n",
    "|s2v200c1400-2.cnf|S=OPT | O=147 | T=156.52 | O_SA=347.0 | O_RA=325.0 | Tp=15805 | Ts=3471 |\n",
    "|s2v200c1400-3.cnf|S=OPT | O=150 | T=182.12 | O_SA=344.0 | O_RA=380.0 | Tp=15803 | Ts=3449 |\n",
    "|s2v200c1400-4.cnf|S=N/A | O=N/A | T=TO | O_SA=341.0 | O_RA=357.0 | Tp=15799 | Ts=3298 |\n",
    "|s2v200c1400-5.cnf|S=OPT | O=153 | T=342.49 | O_SA=376.0 | O_RA=364.0 | Tp=15802 | Ts=3398 |\n",
    "|s2v200c1400-6.cnf|S=OPT | O=145 | T=115.08 | O_SA=344.0 | O_RA=335.0 | Tp=15812 | Ts=3400 |\n",
    "|s2v200c1400-7.cnf|S=OPT | O=142 | T=135.26 | O_SA=340.0 | O_RA=352.0 | Tp=15821 | Ts=3396 |\n",
    "|s2v200c1500-1.cnf|S=OPT | O=165 | T=177.97 | O_SA=370.0 | O_RA=363.0 | Tp=15807 | Ts=3404 |\n",
    "|s2v200c1500-2.cnf|S=OPT | O=165 | T=388.23 | O_SA=378.0 | O_RA=373.0 | Tp=15805 | Ts=3417 |\n",
    "|s2v200c1500-3.cnf|S=OPT | O=165 | T=759.47 | O_SA=344.0 | O_RA=358.0 | Tp=15807 | Ts=3373 |\n",
    "|s2v200c1500-4.cnf|S=N/A | O=N/A | T=TO | O_SA=397.0 | O_RA=357.0 | Tp=15810 | Ts=3331 |\n",
    "|s2v200c1500-5.cnf|S=N/A | O=N/A | T=TO | O_SA=362.0 | O_RA=345.0 | Tp=15808 | Ts=3438 |\n",
    "|s2v200c1500-6.cnf|S=N/A | O=N/A | T=TO | O_SA=378.0 | O_RA=389.0 | Tp=15805 | Ts=3464 |\n",
    "|s2v200c1500-7.cnf|S=N/A | O=N/A | T=TO | O_SA=393.0 | O_RA=386.0 | Tp=15794 | Ts=3470 |\n",
    "|s2v200c1600-1.cnf|S=N/A | O=N/A | T=TO | O_SA=422.0 | O_RA=421.0 | Tp=15801 | Ts=3446 |\n",
    "|s2v200c1600-2.cnf|S=OPT | O=178 | T=307.70 | O_SA=407.0 | O_RA=370.0 | Tp=15795 | Ts=3414 |\n",
    "|s2v200c1600-3.cnf|S=N/A | O=N/A | T=TO | O_SA=381.0 | O_RA=378.0 | Tp=15807 | Ts=3415 |\n",
    "|s2v200c1600-4.cnf|S=N/A | O=N/A | T=TO | O_SA=410.0 | O_RA=391.0 | Tp=15801 | Ts=3382 |\n",
    "|s2v200c1600-5.cnf|S=N/A | O=N/A | T=TO | O_SA=387.0 | O_RA=407.0 | Tp=15799 | Ts=3420 |\n",
    "|s2v200c1600-6.cnf|S=N/A | O=N/A | T=TO | O_SA=397.0 | O_RA=406.0 | Tp=15803 | Ts=3490 |\n",
    "|s2v200c1600-7.cnf|S=N/A | O=N/A | T=TO | O_SA=397.0 | O_RA=386.0 | Tp=15805 | Ts=3464 |\n",
    "|s2v200c1700-1.cnf|S=OPT | O=193 | T=146.26 | O_SA=427.0 | O_RA=395.0 | Tp=15803 | Ts=3433 |\n",
    "|s2v200c1700-2.cnf|S=N/A | O=N/A | T=TO | O_SA=407.0 | O_RA=409.0 | Tp=15809 | Ts=3498 |\n",
    "|s2v200c1700-3.cnf|S=N/A | O=N/A | T=TO | O_SA=424.0 | O_RA=435.0 | Tp=15817 | Ts=3417 |\n",
    "|s2v200c1700-4.cnf|S=N/A | O=N/A | T=TO | O_SA=438.0 | O_RA=422.0 | Tp=15815 | Ts=3498 |\n",
    "|s2v200c1700-5.cnf|S=N/A | O=N/A | T=TO | O_SA=407.0 | O_RA=427.0 | Tp=15804 | Ts=3443 |\n",
    "|s2v200c1700-6.cnf|S=N/A | O=N/A | T=TO | O_SA=402.0 | O_RA=415.0 | Tp=15800 | Ts=3474 |\n",
    "|s2v200c1700-7.cnf|S=N/A | O=N/A | T=TO | O_SA=432.0 | O_RA=439.0 | Tp=15823 | Ts=3433 |\n",
    "|s2v200c1800-1.cnf|S=OPT | O=206 | T=383.34 | O_SA=481.0 | O_RA=463.0 | Tp=15815 | Ts=3480 |\n",
    "|s2v200c1800-2.cnf|S=N/A | O=N/A | T=TO | O_SA=486.0 | O_RA=471.0 | Tp=15802 | Ts=3449 |\n",
    "|s2v200c1800-3.cnf|S=N/A | O=N/A | T=TO | O_SA=478.0 | O_RA=479.0 | Tp=15817 | Ts=3438 |\n",
    "|s2v200c1800-4.cnf|S=N/A | O=N/A | T=TO | O_SA=450.0 | O_RA=457.0 | Tp=15809 | Ts=3471 |\n",
    "|s2v200c1800-5.cnf|S=N/A | O=N/A | T=TO | O_SA=469.0 | O_RA=488.0 | Tp=15810 | Ts=3462 |\n",
    "|s2v200c1800-6.cnf|S=N/A | O=N/A | T=TO | O_SA=433.0 | O_RA=479.0 | Tp=15807 | Ts=3463 |\n",
    "|s2v200c1800-7.cnf|S=N/A | O=N/A | T=TO | O_SA=424.0 | O_RA=449.0 | Tp=15809 | Ts=3462 |\n"
   ]
  },
  {
   "cell_type": "code",
   "execution_count": null,
   "metadata": {},
   "outputs": [],
   "source": []
  }
 ],
 "metadata": {
  "kernelspec": {
   "display_name": "Python 3.9.5 64-bit ('aqml': conda)",
   "name": "python395jvsc74a57bd0814f07c2ef0a0834c4cae908e9df308d0f5fb991f431bbb719e307a4c116e3ea"
  },
  "language_info": {
   "codemirror_mode": {
    "name": "ipython",
    "version": 3
   },
   "file_extension": ".py",
   "mimetype": "text/x-python",
   "name": "python",
   "nbconvert_exporter": "python",
   "pygments_lexer": "ipython3",
   "version": "3.9.5"
  },
  "metadata": {
   "interpreter": {
    "hash": "814f07c2ef0a0834c4cae908e9df308d0f5fb991f431bbb719e307a4c116e3ea"
   }
  },
  "orig_nbformat": 2
 },
 "nbformat": 4,
 "nbformat_minor": 2
}